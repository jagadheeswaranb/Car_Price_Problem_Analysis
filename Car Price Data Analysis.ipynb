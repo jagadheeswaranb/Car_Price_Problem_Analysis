{
 "cells": [
  {
   "cell_type": "code",
   "execution_count": 23,
   "id": "9255e69a",
   "metadata": {},
   "outputs": [],
   "source": [
    "# import necessary libaries \n",
    "\n",
    "import numpy as np\n",
    "import pandas as pd\n",
    "import matplotlib.pyplot as plt\n",
    "import seaborn as sns\n",
    "\n",
    "from warnings import filterwarnings\n",
    "filterwarnings('ignore')\n",
    "\n",
    "from sklearn.ensemble import *\n",
    "from sklearn.preprocessing import *\n",
    "from sklearn.model_selection import *\n",
    "from sklearn.metrics import *\n",
    "from sklearn.linear_model import *\n"
   ]
  },
  {
   "cell_type": "code",
   "execution_count": 24,
   "id": "e01cd4d5",
   "metadata": {},
   "outputs": [
    {
     "data": {
      "text/html": [
       "<div>\n",
       "<style scoped>\n",
       "    .dataframe tbody tr th:only-of-type {\n",
       "        vertical-align: middle;\n",
       "    }\n",
       "\n",
       "    .dataframe tbody tr th {\n",
       "        vertical-align: top;\n",
       "    }\n",
       "\n",
       "    .dataframe thead th {\n",
       "        text-align: right;\n",
       "    }\n",
       "</style>\n",
       "<table border=\"1\" class=\"dataframe\">\n",
       "  <thead>\n",
       "    <tr style=\"text-align: right;\">\n",
       "      <th></th>\n",
       "      <th>car_ID</th>\n",
       "      <th>symboling</th>\n",
       "      <th>CarName</th>\n",
       "      <th>fueltype</th>\n",
       "      <th>aspiration</th>\n",
       "      <th>doornumber</th>\n",
       "      <th>carbody</th>\n",
       "      <th>drivewheel</th>\n",
       "      <th>enginelocation</th>\n",
       "      <th>wheelbase</th>\n",
       "      <th>...</th>\n",
       "      <th>enginesize</th>\n",
       "      <th>fuelsystem</th>\n",
       "      <th>boreratio</th>\n",
       "      <th>stroke</th>\n",
       "      <th>compressionratio</th>\n",
       "      <th>horsepower</th>\n",
       "      <th>peakrpm</th>\n",
       "      <th>citympg</th>\n",
       "      <th>highwaympg</th>\n",
       "      <th>price</th>\n",
       "    </tr>\n",
       "  </thead>\n",
       "  <tbody>\n",
       "    <tr>\n",
       "      <th>0</th>\n",
       "      <td>1</td>\n",
       "      <td>3</td>\n",
       "      <td>alfa-romero giulia</td>\n",
       "      <td>gas</td>\n",
       "      <td>std</td>\n",
       "      <td>two</td>\n",
       "      <td>convertible</td>\n",
       "      <td>rwd</td>\n",
       "      <td>front</td>\n",
       "      <td>88.6</td>\n",
       "      <td>...</td>\n",
       "      <td>130</td>\n",
       "      <td>mpfi</td>\n",
       "      <td>3.47</td>\n",
       "      <td>2.68</td>\n",
       "      <td>9.0</td>\n",
       "      <td>111</td>\n",
       "      <td>5000</td>\n",
       "      <td>21</td>\n",
       "      <td>27</td>\n",
       "      <td>13495.0</td>\n",
       "    </tr>\n",
       "    <tr>\n",
       "      <th>1</th>\n",
       "      <td>2</td>\n",
       "      <td>3</td>\n",
       "      <td>alfa-romero stelvio</td>\n",
       "      <td>gas</td>\n",
       "      <td>std</td>\n",
       "      <td>two</td>\n",
       "      <td>convertible</td>\n",
       "      <td>rwd</td>\n",
       "      <td>front</td>\n",
       "      <td>88.6</td>\n",
       "      <td>...</td>\n",
       "      <td>130</td>\n",
       "      <td>mpfi</td>\n",
       "      <td>3.47</td>\n",
       "      <td>2.68</td>\n",
       "      <td>9.0</td>\n",
       "      <td>111</td>\n",
       "      <td>5000</td>\n",
       "      <td>21</td>\n",
       "      <td>27</td>\n",
       "      <td>16500.0</td>\n",
       "    </tr>\n",
       "    <tr>\n",
       "      <th>2</th>\n",
       "      <td>3</td>\n",
       "      <td>1</td>\n",
       "      <td>alfa-romero Quadrifoglio</td>\n",
       "      <td>gas</td>\n",
       "      <td>std</td>\n",
       "      <td>two</td>\n",
       "      <td>hatchback</td>\n",
       "      <td>rwd</td>\n",
       "      <td>front</td>\n",
       "      <td>94.5</td>\n",
       "      <td>...</td>\n",
       "      <td>152</td>\n",
       "      <td>mpfi</td>\n",
       "      <td>2.68</td>\n",
       "      <td>3.47</td>\n",
       "      <td>9.0</td>\n",
       "      <td>154</td>\n",
       "      <td>5000</td>\n",
       "      <td>19</td>\n",
       "      <td>26</td>\n",
       "      <td>16500.0</td>\n",
       "    </tr>\n",
       "    <tr>\n",
       "      <th>3</th>\n",
       "      <td>4</td>\n",
       "      <td>2</td>\n",
       "      <td>audi 100 ls</td>\n",
       "      <td>gas</td>\n",
       "      <td>std</td>\n",
       "      <td>four</td>\n",
       "      <td>sedan</td>\n",
       "      <td>fwd</td>\n",
       "      <td>front</td>\n",
       "      <td>99.8</td>\n",
       "      <td>...</td>\n",
       "      <td>109</td>\n",
       "      <td>mpfi</td>\n",
       "      <td>3.19</td>\n",
       "      <td>3.40</td>\n",
       "      <td>10.0</td>\n",
       "      <td>102</td>\n",
       "      <td>5500</td>\n",
       "      <td>24</td>\n",
       "      <td>30</td>\n",
       "      <td>13950.0</td>\n",
       "    </tr>\n",
       "    <tr>\n",
       "      <th>4</th>\n",
       "      <td>5</td>\n",
       "      <td>2</td>\n",
       "      <td>audi 100ls</td>\n",
       "      <td>gas</td>\n",
       "      <td>std</td>\n",
       "      <td>four</td>\n",
       "      <td>sedan</td>\n",
       "      <td>4wd</td>\n",
       "      <td>front</td>\n",
       "      <td>99.4</td>\n",
       "      <td>...</td>\n",
       "      <td>136</td>\n",
       "      <td>mpfi</td>\n",
       "      <td>3.19</td>\n",
       "      <td>3.40</td>\n",
       "      <td>8.0</td>\n",
       "      <td>115</td>\n",
       "      <td>5500</td>\n",
       "      <td>18</td>\n",
       "      <td>22</td>\n",
       "      <td>17450.0</td>\n",
       "    </tr>\n",
       "  </tbody>\n",
       "</table>\n",
       "<p>5 rows × 26 columns</p>\n",
       "</div>"
      ],
      "text/plain": [
       "   car_ID  symboling                   CarName fueltype aspiration doornumber  \\\n",
       "0       1          3        alfa-romero giulia      gas        std        two   \n",
       "1       2          3       alfa-romero stelvio      gas        std        two   \n",
       "2       3          1  alfa-romero Quadrifoglio      gas        std        two   \n",
       "3       4          2               audi 100 ls      gas        std       four   \n",
       "4       5          2                audi 100ls      gas        std       four   \n",
       "\n",
       "       carbody drivewheel enginelocation  wheelbase  ...  enginesize  \\\n",
       "0  convertible        rwd          front       88.6  ...         130   \n",
       "1  convertible        rwd          front       88.6  ...         130   \n",
       "2    hatchback        rwd          front       94.5  ...         152   \n",
       "3        sedan        fwd          front       99.8  ...         109   \n",
       "4        sedan        4wd          front       99.4  ...         136   \n",
       "\n",
       "   fuelsystem  boreratio  stroke compressionratio horsepower  peakrpm citympg  \\\n",
       "0        mpfi       3.47    2.68              9.0        111     5000      21   \n",
       "1        mpfi       3.47    2.68              9.0        111     5000      21   \n",
       "2        mpfi       2.68    3.47              9.0        154     5000      19   \n",
       "3        mpfi       3.19    3.40             10.0        102     5500      24   \n",
       "4        mpfi       3.19    3.40              8.0        115     5500      18   \n",
       "\n",
       "   highwaympg    price  \n",
       "0          27  13495.0  \n",
       "1          27  16500.0  \n",
       "2          26  16500.0  \n",
       "3          30  13950.0  \n",
       "4          22  17450.0  \n",
       "\n",
       "[5 rows x 26 columns]"
      ]
     },
     "execution_count": 24,
     "metadata": {},
     "output_type": "execute_result"
    }
   ],
   "source": [
    "# To read the datasets.\n",
    "\n",
    "df=pd.read_csv('car_prices.csv')\n",
    "df.head()"
   ]
  },
  {
   "cell_type": "code",
   "execution_count": 25,
   "id": "1d0f5824",
   "metadata": {},
   "outputs": [
    {
     "name": "stdout",
     "output_type": "stream",
     "text": [
      "<class 'pandas.core.frame.DataFrame'>\n",
      "RangeIndex: 205 entries, 0 to 204\n",
      "Data columns (total 26 columns):\n",
      " #   Column            Non-Null Count  Dtype  \n",
      "---  ------            --------------  -----  \n",
      " 0   car_ID            205 non-null    int64  \n",
      " 1   symboling         205 non-null    int64  \n",
      " 2   CarName           205 non-null    object \n",
      " 3   fueltype          205 non-null    object \n",
      " 4   aspiration        205 non-null    object \n",
      " 5   doornumber        205 non-null    object \n",
      " 6   carbody           205 non-null    object \n",
      " 7   drivewheel        205 non-null    object \n",
      " 8   enginelocation    205 non-null    object \n",
      " 9   wheelbase         205 non-null    float64\n",
      " 10  carlength         205 non-null    float64\n",
      " 11  carwidth          205 non-null    float64\n",
      " 12  carheight         205 non-null    float64\n",
      " 13  curbweight        205 non-null    int64  \n",
      " 14  enginetype        205 non-null    object \n",
      " 15  cylindernumber    205 non-null    object \n",
      " 16  enginesize        205 non-null    int64  \n",
      " 17  fuelsystem        205 non-null    object \n",
      " 18  boreratio         205 non-null    float64\n",
      " 19  stroke            205 non-null    float64\n",
      " 20  compressionratio  205 non-null    float64\n",
      " 21  horsepower        205 non-null    int64  \n",
      " 22  peakrpm           205 non-null    int64  \n",
      " 23  citympg           205 non-null    int64  \n",
      " 24  highwaympg        205 non-null    int64  \n",
      " 25  price             205 non-null    float64\n",
      "dtypes: float64(8), int64(8), object(10)\n",
      "memory usage: 41.8+ KB\n"
     ]
    }
   ],
   "source": [
    "# To know the datatypes of the data set.\n",
    "\n",
    "df.info()"
   ]
  },
  {
   "cell_type": "code",
   "execution_count": 26,
   "id": "e338c637",
   "metadata": {},
   "outputs": [
    {
     "data": {
      "text/html": [
       "<div>\n",
       "<style scoped>\n",
       "    .dataframe tbody tr th:only-of-type {\n",
       "        vertical-align: middle;\n",
       "    }\n",
       "\n",
       "    .dataframe tbody tr th {\n",
       "        vertical-align: top;\n",
       "    }\n",
       "\n",
       "    .dataframe thead th {\n",
       "        text-align: right;\n",
       "    }\n",
       "</style>\n",
       "<table border=\"1\" class=\"dataframe\">\n",
       "  <thead>\n",
       "    <tr style=\"text-align: right;\">\n",
       "      <th></th>\n",
       "      <th>count</th>\n",
       "      <th>mean</th>\n",
       "      <th>std</th>\n",
       "      <th>min</th>\n",
       "      <th>25%</th>\n",
       "      <th>50%</th>\n",
       "      <th>75%</th>\n",
       "      <th>max</th>\n",
       "    </tr>\n",
       "  </thead>\n",
       "  <tbody>\n",
       "    <tr>\n",
       "      <th>car_ID</th>\n",
       "      <td>205.0</td>\n",
       "      <td>103.000000</td>\n",
       "      <td>59.322565</td>\n",
       "      <td>1.00</td>\n",
       "      <td>52.00</td>\n",
       "      <td>103.00</td>\n",
       "      <td>154.00</td>\n",
       "      <td>205.00</td>\n",
       "    </tr>\n",
       "    <tr>\n",
       "      <th>symboling</th>\n",
       "      <td>205.0</td>\n",
       "      <td>0.834146</td>\n",
       "      <td>1.245307</td>\n",
       "      <td>-2.00</td>\n",
       "      <td>0.00</td>\n",
       "      <td>1.00</td>\n",
       "      <td>2.00</td>\n",
       "      <td>3.00</td>\n",
       "    </tr>\n",
       "    <tr>\n",
       "      <th>wheelbase</th>\n",
       "      <td>205.0</td>\n",
       "      <td>98.756585</td>\n",
       "      <td>6.021776</td>\n",
       "      <td>86.60</td>\n",
       "      <td>94.50</td>\n",
       "      <td>97.00</td>\n",
       "      <td>102.40</td>\n",
       "      <td>120.90</td>\n",
       "    </tr>\n",
       "    <tr>\n",
       "      <th>carlength</th>\n",
       "      <td>205.0</td>\n",
       "      <td>174.049268</td>\n",
       "      <td>12.337289</td>\n",
       "      <td>141.10</td>\n",
       "      <td>166.30</td>\n",
       "      <td>173.20</td>\n",
       "      <td>183.10</td>\n",
       "      <td>208.10</td>\n",
       "    </tr>\n",
       "    <tr>\n",
       "      <th>carwidth</th>\n",
       "      <td>205.0</td>\n",
       "      <td>65.907805</td>\n",
       "      <td>2.145204</td>\n",
       "      <td>60.30</td>\n",
       "      <td>64.10</td>\n",
       "      <td>65.50</td>\n",
       "      <td>66.90</td>\n",
       "      <td>72.30</td>\n",
       "    </tr>\n",
       "    <tr>\n",
       "      <th>carheight</th>\n",
       "      <td>205.0</td>\n",
       "      <td>53.724878</td>\n",
       "      <td>2.443522</td>\n",
       "      <td>47.80</td>\n",
       "      <td>52.00</td>\n",
       "      <td>54.10</td>\n",
       "      <td>55.50</td>\n",
       "      <td>59.80</td>\n",
       "    </tr>\n",
       "    <tr>\n",
       "      <th>curbweight</th>\n",
       "      <td>205.0</td>\n",
       "      <td>2555.565854</td>\n",
       "      <td>520.680204</td>\n",
       "      <td>1488.00</td>\n",
       "      <td>2145.00</td>\n",
       "      <td>2414.00</td>\n",
       "      <td>2935.00</td>\n",
       "      <td>4066.00</td>\n",
       "    </tr>\n",
       "    <tr>\n",
       "      <th>enginesize</th>\n",
       "      <td>205.0</td>\n",
       "      <td>126.907317</td>\n",
       "      <td>41.642693</td>\n",
       "      <td>61.00</td>\n",
       "      <td>97.00</td>\n",
       "      <td>120.00</td>\n",
       "      <td>141.00</td>\n",
       "      <td>326.00</td>\n",
       "    </tr>\n",
       "    <tr>\n",
       "      <th>boreratio</th>\n",
       "      <td>205.0</td>\n",
       "      <td>3.329756</td>\n",
       "      <td>0.270844</td>\n",
       "      <td>2.54</td>\n",
       "      <td>3.15</td>\n",
       "      <td>3.31</td>\n",
       "      <td>3.58</td>\n",
       "      <td>3.94</td>\n",
       "    </tr>\n",
       "    <tr>\n",
       "      <th>stroke</th>\n",
       "      <td>205.0</td>\n",
       "      <td>3.255415</td>\n",
       "      <td>0.313597</td>\n",
       "      <td>2.07</td>\n",
       "      <td>3.11</td>\n",
       "      <td>3.29</td>\n",
       "      <td>3.41</td>\n",
       "      <td>4.17</td>\n",
       "    </tr>\n",
       "    <tr>\n",
       "      <th>compressionratio</th>\n",
       "      <td>205.0</td>\n",
       "      <td>10.142537</td>\n",
       "      <td>3.972040</td>\n",
       "      <td>7.00</td>\n",
       "      <td>8.60</td>\n",
       "      <td>9.00</td>\n",
       "      <td>9.40</td>\n",
       "      <td>23.00</td>\n",
       "    </tr>\n",
       "    <tr>\n",
       "      <th>horsepower</th>\n",
       "      <td>205.0</td>\n",
       "      <td>104.117073</td>\n",
       "      <td>39.544167</td>\n",
       "      <td>48.00</td>\n",
       "      <td>70.00</td>\n",
       "      <td>95.00</td>\n",
       "      <td>116.00</td>\n",
       "      <td>288.00</td>\n",
       "    </tr>\n",
       "    <tr>\n",
       "      <th>peakrpm</th>\n",
       "      <td>205.0</td>\n",
       "      <td>5125.121951</td>\n",
       "      <td>476.985643</td>\n",
       "      <td>4150.00</td>\n",
       "      <td>4800.00</td>\n",
       "      <td>5200.00</td>\n",
       "      <td>5500.00</td>\n",
       "      <td>6600.00</td>\n",
       "    </tr>\n",
       "    <tr>\n",
       "      <th>citympg</th>\n",
       "      <td>205.0</td>\n",
       "      <td>25.219512</td>\n",
       "      <td>6.542142</td>\n",
       "      <td>13.00</td>\n",
       "      <td>19.00</td>\n",
       "      <td>24.00</td>\n",
       "      <td>30.00</td>\n",
       "      <td>49.00</td>\n",
       "    </tr>\n",
       "    <tr>\n",
       "      <th>highwaympg</th>\n",
       "      <td>205.0</td>\n",
       "      <td>30.751220</td>\n",
       "      <td>6.886443</td>\n",
       "      <td>16.00</td>\n",
       "      <td>25.00</td>\n",
       "      <td>30.00</td>\n",
       "      <td>34.00</td>\n",
       "      <td>54.00</td>\n",
       "    </tr>\n",
       "    <tr>\n",
       "      <th>price</th>\n",
       "      <td>205.0</td>\n",
       "      <td>13276.710571</td>\n",
       "      <td>7988.852332</td>\n",
       "      <td>5118.00</td>\n",
       "      <td>7788.00</td>\n",
       "      <td>10295.00</td>\n",
       "      <td>16503.00</td>\n",
       "      <td>45400.00</td>\n",
       "    </tr>\n",
       "  </tbody>\n",
       "</table>\n",
       "</div>"
      ],
      "text/plain": [
       "                  count          mean          std      min      25%  \\\n",
       "car_ID            205.0    103.000000    59.322565     1.00    52.00   \n",
       "symboling         205.0      0.834146     1.245307    -2.00     0.00   \n",
       "wheelbase         205.0     98.756585     6.021776    86.60    94.50   \n",
       "carlength         205.0    174.049268    12.337289   141.10   166.30   \n",
       "carwidth          205.0     65.907805     2.145204    60.30    64.10   \n",
       "carheight         205.0     53.724878     2.443522    47.80    52.00   \n",
       "curbweight        205.0   2555.565854   520.680204  1488.00  2145.00   \n",
       "enginesize        205.0    126.907317    41.642693    61.00    97.00   \n",
       "boreratio         205.0      3.329756     0.270844     2.54     3.15   \n",
       "stroke            205.0      3.255415     0.313597     2.07     3.11   \n",
       "compressionratio  205.0     10.142537     3.972040     7.00     8.60   \n",
       "horsepower        205.0    104.117073    39.544167    48.00    70.00   \n",
       "peakrpm           205.0   5125.121951   476.985643  4150.00  4800.00   \n",
       "citympg           205.0     25.219512     6.542142    13.00    19.00   \n",
       "highwaympg        205.0     30.751220     6.886443    16.00    25.00   \n",
       "price             205.0  13276.710571  7988.852332  5118.00  7788.00   \n",
       "\n",
       "                       50%       75%       max  \n",
       "car_ID              103.00    154.00    205.00  \n",
       "symboling             1.00      2.00      3.00  \n",
       "wheelbase            97.00    102.40    120.90  \n",
       "carlength           173.20    183.10    208.10  \n",
       "carwidth             65.50     66.90     72.30  \n",
       "carheight            54.10     55.50     59.80  \n",
       "curbweight         2414.00   2935.00   4066.00  \n",
       "enginesize          120.00    141.00    326.00  \n",
       "boreratio             3.31      3.58      3.94  \n",
       "stroke                3.29      3.41      4.17  \n",
       "compressionratio      9.00      9.40     23.00  \n",
       "horsepower           95.00    116.00    288.00  \n",
       "peakrpm            5200.00   5500.00   6600.00  \n",
       "citympg              24.00     30.00     49.00  \n",
       "highwaympg           30.00     34.00     54.00  \n",
       "price             10295.00  16503.00  45400.00  "
      ]
     },
     "execution_count": 26,
     "metadata": {},
     "output_type": "execute_result"
    }
   ],
   "source": [
    "# To know the mathematical parameters of count,mean,std,min,max,etc.....\n",
    "\n",
    "df.describe().T"
   ]
  },
  {
   "cell_type": "code",
   "execution_count": 27,
   "id": "0f011ec1",
   "metadata": {},
   "outputs": [
    {
     "data": {
      "text/html": [
       "<div>\n",
       "<style scoped>\n",
       "    .dataframe tbody tr th:only-of-type {\n",
       "        vertical-align: middle;\n",
       "    }\n",
       "\n",
       "    .dataframe tbody tr th {\n",
       "        vertical-align: top;\n",
       "    }\n",
       "\n",
       "    .dataframe thead th {\n",
       "        text-align: right;\n",
       "    }\n",
       "</style>\n",
       "<table border=\"1\" class=\"dataframe\">\n",
       "  <thead>\n",
       "    <tr style=\"text-align: right;\">\n",
       "      <th></th>\n",
       "      <th>count</th>\n",
       "      <th>unique</th>\n",
       "      <th>top</th>\n",
       "      <th>freq</th>\n",
       "    </tr>\n",
       "  </thead>\n",
       "  <tbody>\n",
       "    <tr>\n",
       "      <th>CarName</th>\n",
       "      <td>205</td>\n",
       "      <td>147</td>\n",
       "      <td>toyota corona</td>\n",
       "      <td>6</td>\n",
       "    </tr>\n",
       "    <tr>\n",
       "      <th>fueltype</th>\n",
       "      <td>205</td>\n",
       "      <td>2</td>\n",
       "      <td>gas</td>\n",
       "      <td>185</td>\n",
       "    </tr>\n",
       "    <tr>\n",
       "      <th>aspiration</th>\n",
       "      <td>205</td>\n",
       "      <td>2</td>\n",
       "      <td>std</td>\n",
       "      <td>168</td>\n",
       "    </tr>\n",
       "    <tr>\n",
       "      <th>doornumber</th>\n",
       "      <td>205</td>\n",
       "      <td>2</td>\n",
       "      <td>four</td>\n",
       "      <td>115</td>\n",
       "    </tr>\n",
       "    <tr>\n",
       "      <th>carbody</th>\n",
       "      <td>205</td>\n",
       "      <td>5</td>\n",
       "      <td>sedan</td>\n",
       "      <td>96</td>\n",
       "    </tr>\n",
       "    <tr>\n",
       "      <th>drivewheel</th>\n",
       "      <td>205</td>\n",
       "      <td>3</td>\n",
       "      <td>fwd</td>\n",
       "      <td>120</td>\n",
       "    </tr>\n",
       "    <tr>\n",
       "      <th>enginelocation</th>\n",
       "      <td>205</td>\n",
       "      <td>2</td>\n",
       "      <td>front</td>\n",
       "      <td>202</td>\n",
       "    </tr>\n",
       "    <tr>\n",
       "      <th>enginetype</th>\n",
       "      <td>205</td>\n",
       "      <td>7</td>\n",
       "      <td>ohc</td>\n",
       "      <td>148</td>\n",
       "    </tr>\n",
       "    <tr>\n",
       "      <th>cylindernumber</th>\n",
       "      <td>205</td>\n",
       "      <td>7</td>\n",
       "      <td>four</td>\n",
       "      <td>159</td>\n",
       "    </tr>\n",
       "    <tr>\n",
       "      <th>fuelsystem</th>\n",
       "      <td>205</td>\n",
       "      <td>8</td>\n",
       "      <td>mpfi</td>\n",
       "      <td>94</td>\n",
       "    </tr>\n",
       "  </tbody>\n",
       "</table>\n",
       "</div>"
      ],
      "text/plain": [
       "               count unique            top freq\n",
       "CarName          205    147  toyota corona    6\n",
       "fueltype         205      2            gas  185\n",
       "aspiration       205      2            std  168\n",
       "doornumber       205      2           four  115\n",
       "carbody          205      5          sedan   96\n",
       "drivewheel       205      3            fwd  120\n",
       "enginelocation   205      2          front  202\n",
       "enginetype       205      7            ohc  148\n",
       "cylindernumber   205      7           four  159\n",
       "fuelsystem       205      8           mpfi   94"
      ]
     },
     "execution_count": 27,
     "metadata": {},
     "output_type": "execute_result"
    }
   ],
   "source": [
    "# To know only for categorical datatypes.\n",
    "\n",
    "df.describe(include='object').T"
   ]
  },
  {
   "cell_type": "code",
   "execution_count": 28,
   "id": "ed20d957",
   "metadata": {},
   "outputs": [
    {
     "data": {
      "text/plain": [
       "car_ID              0\n",
       "symboling           0\n",
       "CarName             0\n",
       "fueltype            0\n",
       "aspiration          0\n",
       "doornumber          0\n",
       "carbody             0\n",
       "drivewheel          0\n",
       "enginelocation      0\n",
       "wheelbase           0\n",
       "carlength           0\n",
       "carwidth            0\n",
       "carheight           0\n",
       "curbweight          0\n",
       "enginetype          0\n",
       "cylindernumber      0\n",
       "enginesize          0\n",
       "fuelsystem          0\n",
       "boreratio           0\n",
       "stroke              0\n",
       "compressionratio    0\n",
       "horsepower          0\n",
       "peakrpm             0\n",
       "citympg             0\n",
       "highwaympg          0\n",
       "price               0\n",
       "dtype: int64"
      ]
     },
     "execution_count": 28,
     "metadata": {},
     "output_type": "execute_result"
    }
   ],
   "source": [
    "# Check for the null values in the dataset.\n",
    "\n",
    "df.isnull().sum()"
   ]
  },
  {
   "cell_type": "code",
   "execution_count": 29,
   "id": "87e19916",
   "metadata": {},
   "outputs": [],
   "source": [
    "# there is no null values to treat for the dataset to perform the EDA.\n"
   ]
  },
  {
   "cell_type": "code",
   "execution_count": 30,
   "id": "73a82e5f",
   "metadata": {},
   "outputs": [
    {
     "data": {
      "text/plain": [
       "array(['alfa-romero', 'audi', 'bmw', 'chevrolet', 'dodge', 'honda',\n",
       "       'isuzu', 'jaguar', 'maxda', 'mazda', 'buick', 'mercury',\n",
       "       'mitsubishi', 'Nissan', 'nissan', 'peugeot', 'plymouth', 'porsche',\n",
       "       'porcshce', 'renault', 'saab', 'subaru', 'toyota', 'toyouta',\n",
       "       'vokswagen', 'volkswagen', 'vw', 'volvo'], dtype=object)"
      ]
     },
     "execution_count": 30,
     "metadata": {},
     "output_type": "execute_result"
    }
   ],
   "source": [
    "# Data Preprocessing\n",
    "\n",
    "df['CompanyName'] = df['CarName'].str.split(' ',expand=True)[0]\n",
    "df['CompanyName'].unique()"
   ]
  },
  {
   "cell_type": "code",
   "execution_count": 31,
   "id": "1e35c4b7",
   "metadata": {},
   "outputs": [],
   "source": [
    "# Function to replace the company name properily\n",
    "\n",
    "def replace(a,b):\n",
    "    df['CompanyName'].replace(a,b,inplace=True)\n",
    "    \n",
    "    \n",
    "replace('maxda', 'mazda')\n",
    "replace('vokswagen', 'volkswagen')\n",
    "replace('vw', 'volkswagen')\n",
    "replace( 'Nissan', 'nissan')\n",
    "replace( 'porcshce','porsche')"
   ]
  },
  {
   "cell_type": "code",
   "execution_count": 32,
   "id": "797ccc0c",
   "metadata": {},
   "outputs": [],
   "source": [
    "replace('toyouta','toyota')"
   ]
  },
  {
   "cell_type": "code",
   "execution_count": 33,
   "id": "c593e2b6",
   "metadata": {},
   "outputs": [
    {
     "data": {
      "text/plain": [
       "array(['alfa-romero', 'audi', 'bmw', 'chevrolet', 'dodge', 'honda',\n",
       "       'isuzu', 'jaguar', 'mazda', 'buick', 'mercury', 'mitsubishi',\n",
       "       'nissan', 'peugeot', 'plymouth', 'porsche', 'renault', 'saab',\n",
       "       'subaru', 'toyota', 'volkswagen', 'volvo'], dtype=object)"
      ]
     },
     "execution_count": 33,
     "metadata": {},
     "output_type": "execute_result"
    }
   ],
   "source": [
    "df['CompanyName'].unique()"
   ]
  },
  {
   "cell_type": "code",
   "execution_count": 34,
   "id": "357e20d7",
   "metadata": {},
   "outputs": [
    {
     "data": {
      "text/html": [
       "<div>\n",
       "<style scoped>\n",
       "    .dataframe tbody tr th:only-of-type {\n",
       "        vertical-align: middle;\n",
       "    }\n",
       "\n",
       "    .dataframe tbody tr th {\n",
       "        vertical-align: top;\n",
       "    }\n",
       "\n",
       "    .dataframe thead th {\n",
       "        text-align: right;\n",
       "    }\n",
       "</style>\n",
       "<table border=\"1\" class=\"dataframe\">\n",
       "  <thead>\n",
       "    <tr style=\"text-align: right;\">\n",
       "      <th></th>\n",
       "      <th>car_ID</th>\n",
       "      <th>symboling</th>\n",
       "      <th>CarName</th>\n",
       "      <th>fueltype</th>\n",
       "      <th>aspiration</th>\n",
       "      <th>doornumber</th>\n",
       "      <th>carbody</th>\n",
       "      <th>drivewheel</th>\n",
       "      <th>enginelocation</th>\n",
       "      <th>wheelbase</th>\n",
       "      <th>...</th>\n",
       "      <th>fuelsystem</th>\n",
       "      <th>boreratio</th>\n",
       "      <th>stroke</th>\n",
       "      <th>compressionratio</th>\n",
       "      <th>horsepower</th>\n",
       "      <th>peakrpm</th>\n",
       "      <th>citympg</th>\n",
       "      <th>highwaympg</th>\n",
       "      <th>price</th>\n",
       "      <th>CompanyName</th>\n",
       "    </tr>\n",
       "  </thead>\n",
       "  <tbody>\n",
       "  </tbody>\n",
       "</table>\n",
       "<p>0 rows × 27 columns</p>\n",
       "</div>"
      ],
      "text/plain": [
       "Empty DataFrame\n",
       "Columns: [car_ID, symboling, CarName, fueltype, aspiration, doornumber, carbody, drivewheel, enginelocation, wheelbase, carlength, carwidth, carheight, curbweight, enginetype, cylindernumber, enginesize, fuelsystem, boreratio, stroke, compressionratio, horsepower, peakrpm, citympg, highwaympg, price, CompanyName]\n",
       "Index: []\n",
       "\n",
       "[0 rows x 27 columns]"
      ]
     },
     "execution_count": 34,
     "metadata": {},
     "output_type": "execute_result"
    }
   ],
   "source": [
    "df[df.duplicated()]"
   ]
  },
  {
   "cell_type": "code",
   "execution_count": 35,
   "id": "fa2c4853",
   "metadata": {},
   "outputs": [],
   "source": [
    "# Dropping the unwanted columns in the dataset.\n",
    "\n",
    "df.drop('car_ID',axis=1,inplace=True)\n",
    "df.drop('CarName',axis=1,inplace=True)\n"
   ]
  },
  {
   "cell_type": "code",
   "execution_count": 36,
   "id": "7f9ca5f7",
   "metadata": {},
   "outputs": [],
   "source": [
    "df['symboling']=df['symboling'].astype('object')"
   ]
  },
  {
   "cell_type": "code",
   "execution_count": 37,
   "id": "0c9d5bde",
   "metadata": {},
   "outputs": [
    {
     "data": {
      "text/plain": [
       "wheelbase           1.050214\n",
       "carlength           0.155954\n",
       "carwidth            0.904003\n",
       "carheight           0.063123\n",
       "curbweight          0.681398\n",
       "enginesize          1.947655\n",
       "boreratio           0.020156\n",
       "stroke             -0.689705\n",
       "compressionratio    2.610862\n",
       "horsepower          1.405310\n",
       "peakrpm             0.075159\n",
       "citympg             0.663704\n",
       "highwaympg          0.539997\n",
       "price               1.777678\n",
       "dtype: float64"
      ]
     },
     "execution_count": 37,
     "metadata": {},
     "output_type": "execute_result"
    }
   ],
   "source": [
    "# To check the skewness for the numerical columns.\n",
    "\n",
    "df.select_dtypes(include=np.number).skew()"
   ]
  },
  {
   "cell_type": "code",
   "execution_count": 38,
   "id": "8ef51187",
   "metadata": {},
   "outputs": [
    {
     "name": "stdout",
     "output_type": "stream",
     "text": [
      "symboling\n",
      "0     67\n",
      "1     54\n",
      "2     32\n",
      "3     27\n",
      "-1    22\n",
      "-2     3\n",
      "Name: count, dtype: int64\n",
      "\n",
      "fueltype\n",
      "gas       185\n",
      "diesel     20\n",
      "Name: count, dtype: int64\n",
      "\n",
      "aspiration\n",
      "std      168\n",
      "turbo     37\n",
      "Name: count, dtype: int64\n",
      "\n",
      "doornumber\n",
      "four    115\n",
      "two      90\n",
      "Name: count, dtype: int64\n",
      "\n",
      "carbody\n",
      "sedan          96\n",
      "hatchback      70\n",
      "wagon          25\n",
      "hardtop         8\n",
      "convertible     6\n",
      "Name: count, dtype: int64\n",
      "\n",
      "drivewheel\n",
      "fwd    120\n",
      "rwd     76\n",
      "4wd      9\n",
      "Name: count, dtype: int64\n",
      "\n",
      "enginelocation\n",
      "front    202\n",
      "rear       3\n",
      "Name: count, dtype: int64\n",
      "\n",
      "enginetype\n",
      "ohc      148\n",
      "ohcf      15\n",
      "ohcv      13\n",
      "dohc      12\n",
      "l         12\n",
      "rotor      4\n",
      "dohcv      1\n",
      "Name: count, dtype: int64\n",
      "\n",
      "cylindernumber\n",
      "four      159\n",
      "six        24\n",
      "five       11\n",
      "eight       5\n",
      "two         4\n",
      "three       1\n",
      "twelve      1\n",
      "Name: count, dtype: int64\n",
      "\n",
      "fuelsystem\n",
      "mpfi    94\n",
      "2bbl    66\n",
      "idi     20\n",
      "1bbl    11\n",
      "spdi     9\n",
      "4bbl     3\n",
      "mfi      1\n",
      "spfi     1\n",
      "Name: count, dtype: int64\n",
      "\n",
      "CompanyName\n",
      "toyota         32\n",
      "nissan         18\n",
      "mazda          17\n",
      "mitsubishi     13\n",
      "honda          13\n",
      "volkswagen     12\n",
      "subaru         12\n",
      "peugeot        11\n",
      "volvo          11\n",
      "dodge           9\n",
      "buick           8\n",
      "bmw             8\n",
      "audi            7\n",
      "plymouth        7\n",
      "saab            6\n",
      "porsche         5\n",
      "isuzu           4\n",
      "jaguar          3\n",
      "chevrolet       3\n",
      "alfa-romero     3\n",
      "renault         2\n",
      "mercury         1\n",
      "Name: count, dtype: int64\n",
      "\n"
     ]
    }
   ],
   "source": [
    "# To know the value_counts for the categorical columns.\n",
    "\n",
    "for i in df.select_dtypes(exclude=np.number).columns:\n",
    "    print(df[i].value_counts())\n",
    "    print()"
   ]
  },
  {
   "cell_type": "code",
   "execution_count": 39,
   "id": "15237d63",
   "metadata": {},
   "outputs": [
    {
     "data": {
      "image/png": "[encoded data removed]",
      "text/plain": [
       "<Figure size 640x480 with 2 Axes>"
      ]
     },
     "metadata": {},
     "output_type": "display_data"
    }
   ],
   "source": [
    "# Plot on target \n",
    "\n",
    "plt.subplot(1,2,1)\n",
    "sns.distplot(df['price'])\n",
    "\n",
    "plt.subplot(1,2,2)\n",
    "sns.boxplot(df['price'])\n",
    "plt.show()"
   ]
  },
  {
   "cell_type": "code",
   "execution_count": 40,
   "id": "672e77d2",
   "metadata": {},
   "outputs": [
    {
     "data": {
      "image/png": "[encoded data removed]",
      "text/plain": [
       "<Figure size 640x480 with 1 Axes>"
      ]
     },
     "execution_count": 40,
     "metadata": {},
     "output_type": "execute_result"
    },
    {
     "data": {
      "image/png": "[encoded data removed]",
      "text/plain": [
       "<Figure size 640x480 with 1 Axes>"
      ]
     },
     "metadata": {},
     "output_type": "display_data"
    }
   ],
   "source": [
    "import statsmodels.api as sm\n",
    "sm.qqplot(df['price'],line='s')"
   ]
  },
  {
   "cell_type": "code",
   "execution_count": 41,
   "id": "245efe52",
   "metadata": {},
   "outputs": [
    {
     "data": {
      "image/png": "[encoded data removed]",
      "text/plain": [
       "<Figure size 640x480 with 14 Axes>"
      ]
     },
     "metadata": {},
     "output_type": "display_data"
    }
   ],
   "source": [
    "# Univarient Analysis\n",
    "\n",
    "t=1\n",
    "for i in df.select_dtypes(include=np.number).columns:\n",
    "    plt.subplot(5,3,t)\n",
    "    sns.distplot(df[i])\n",
    "    t+=1\n",
    "plt.tight_layout()\n",
    "plt.show()"
   ]
  },
  {
   "cell_type": "code",
   "execution_count": 42,
   "id": "6298ea83",
   "metadata": {},
   "outputs": [
    {
     "data": {
      "text/plain": [
       "Index(['symboling', 'fueltype', 'aspiration', 'doornumber', 'carbody',\n",
       "       'drivewheel', 'enginelocation', 'enginetype', 'cylindernumber',\n",
       "       'fuelsystem', 'CompanyName'],\n",
       "      dtype='object')"
      ]
     },
     "execution_count": 42,
     "metadata": {},
     "output_type": "execute_result"
    }
   ],
   "source": [
    "df.select_dtypes(exclude=np.number).columns"
   ]
  },
  {
   "cell_type": "code",
   "execution_count": 43,
   "id": "156cf804",
   "metadata": {},
   "outputs": [
    {
     "data": {
      "image/png": "[encoded data removed]",
      "text/plain": [
       "<Figure size 640x480 with 11 Axes>"
      ]
     },
     "metadata": {},
     "output_type": "display_data"
    }
   ],
   "source": [
    "t=1\n",
    "for i in df.select_dtypes(exclude=np.number).columns:\n",
    "    plt.subplot(5,4,t)\n",
    "    sns.countplot(x=df[i],palette='magma')\n",
    "    t+=1\n",
    "plt.tight_layout()\n",
    "plt.show()"
   ]
  },
  {
   "cell_type": "code",
   "execution_count": 44,
   "id": "a0a94ec8",
   "metadata": {},
   "outputs": [],
   "source": [
    "dff=df.drop('price',axis=1)"
   ]
  },
  {
   "cell_type": "code",
   "execution_count": 45,
   "id": "bc3bb22e",
   "metadata": {},
   "outputs": [
    {
     "data": {
      "text/plain": [
       "['wheelbase',\n",
       " 'carlength',\n",
       " 'carwidth',\n",
       " 'carheight',\n",
       " 'curbweight',\n",
       " 'enginesize',\n",
       " 'boreratio',\n",
       " 'stroke',\n",
       " 'compressionratio',\n",
       " 'horsepower',\n",
       " 'peakrpm',\n",
       " 'citympg',\n",
       " 'highwaympg']"
      ]
     },
     "execution_count": 45,
     "metadata": {},
     "output_type": "execute_result"
    }
   ],
   "source": [
    "num = dff.select_dtypes(include=np.number).columns.to_list()\n",
    "num"
   ]
  },
  {
   "cell_type": "code",
   "execution_count": 46,
   "id": "71bd9b87",
   "metadata": {},
   "outputs": [
    {
     "data": {
      "text/plain": [
       "<Axes: >"
      ]
     },
     "execution_count": 46,
     "metadata": {},
     "output_type": "execute_result"
    },
    {
     "data": {
      "image/png": "[encoded data removed]",
      "text/plain": [
       "<Figure size 640x480 with 2 Axes>"
      ]
     },
     "metadata": {},
     "output_type": "display_data"
    }
   ],
   "source": [
    "# To check for the correlation\n",
    "\n",
    "sns.heatmap(dff[num].corr(),annot=True,cmap='coolwarm')"
   ]
  },
  {
   "cell_type": "code",
   "execution_count": null,
   "id": "1be7268f",
   "metadata": {},
   "outputs": [],
   "source": [
    "# feature engineering\n",
    "\n",
    "# to get the fuel economy we can combine citympg and highwaympg column considering \n",
    "# 65% in cidf['fueleconomy'] = (0.65 * df['citympg']) + (0.35 * df['highwaympg'])tympg and 35% in highwaympg\n"
   ]
  },
  {
   "cell_type": "code",
   "execution_count": 47,
   "id": "18131382",
   "metadata": {},
   "outputs": [],
   "source": [
    "df['fueleconomy'] = (0.65 * df['citympg']) + (0.35 * df['highwaympg'])"
   ]
  },
  {
   "cell_type": "code",
   "execution_count": 48,
   "id": "37fab50c",
   "metadata": {},
   "outputs": [
    {
     "data": {
      "image/png": "[encoded data removed]",
      "text/plain": [
       "<Figure size 640x480 with 1 Axes>"
      ]
     },
     "metadata": {},
     "output_type": "display_data"
    }
   ],
   "source": [
    "sns.distplot(df['fueleconomy'])\n",
    "plt.show()"
   ]
  },
  {
   "cell_type": "code",
   "execution_count": 49,
   "id": "fffbae74",
   "metadata": {},
   "outputs": [],
   "source": [
    "df['price'] = df['price'].astype(int)\n"
   ]
  },
  {
   "cell_type": "code",
   "execution_count": 50,
   "id": "1bdbf958",
   "metadata": {},
   "outputs": [
    {
     "data": {
      "text/html": [
       "<div>\n",
       "<style scoped>\n",
       "    .dataframe tbody tr th:only-of-type {\n",
       "        vertical-align: middle;\n",
       "    }\n",
       "\n",
       "    .dataframe tbody tr th {\n",
       "        vertical-align: top;\n",
       "    }\n",
       "\n",
       "    .dataframe thead th {\n",
       "        text-align: right;\n",
       "    }\n",
       "</style>\n",
       "<table border=\"1\" class=\"dataframe\">\n",
       "  <thead>\n",
       "    <tr style=\"text-align: right;\">\n",
       "      <th></th>\n",
       "      <th>price</th>\n",
       "    </tr>\n",
       "    <tr>\n",
       "      <th>CompanyName</th>\n",
       "      <th></th>\n",
       "    </tr>\n",
       "  </thead>\n",
       "  <tbody>\n",
       "    <tr>\n",
       "      <th>alfa-romero</th>\n",
       "      <td>15498.333333</td>\n",
       "    </tr>\n",
       "    <tr>\n",
       "      <th>audi</th>\n",
       "      <td>17859.142857</td>\n",
       "    </tr>\n",
       "    <tr>\n",
       "      <th>bmw</th>\n",
       "      <td>26118.750000</td>\n",
       "    </tr>\n",
       "    <tr>\n",
       "      <th>buick</th>\n",
       "      <td>33647.000000</td>\n",
       "    </tr>\n",
       "    <tr>\n",
       "      <th>chevrolet</th>\n",
       "      <td>6007.000000</td>\n",
       "    </tr>\n",
       "    <tr>\n",
       "      <th>dodge</th>\n",
       "      <td>7875.444444</td>\n",
       "    </tr>\n",
       "    <tr>\n",
       "      <th>honda</th>\n",
       "      <td>8184.692308</td>\n",
       "    </tr>\n",
       "    <tr>\n",
       "      <th>isuzu</th>\n",
       "      <td>8916.250000</td>\n",
       "    </tr>\n",
       "    <tr>\n",
       "      <th>jaguar</th>\n",
       "      <td>34600.000000</td>\n",
       "    </tr>\n",
       "    <tr>\n",
       "      <th>mazda</th>\n",
       "      <td>10652.882353</td>\n",
       "    </tr>\n",
       "    <tr>\n",
       "      <th>mercury</th>\n",
       "      <td>16503.000000</td>\n",
       "    </tr>\n",
       "    <tr>\n",
       "      <th>mitsubishi</th>\n",
       "      <td>9239.769231</td>\n",
       "    </tr>\n",
       "    <tr>\n",
       "      <th>nissan</th>\n",
       "      <td>10415.666667</td>\n",
       "    </tr>\n",
       "    <tr>\n",
       "      <th>peugeot</th>\n",
       "      <td>15489.090909</td>\n",
       "    </tr>\n",
       "    <tr>\n",
       "      <th>plymouth</th>\n",
       "      <td>7963.428571</td>\n",
       "    </tr>\n",
       "    <tr>\n",
       "      <th>porsche</th>\n",
       "      <td>31400.400000</td>\n",
       "    </tr>\n",
       "    <tr>\n",
       "      <th>renault</th>\n",
       "      <td>9595.000000</td>\n",
       "    </tr>\n",
       "    <tr>\n",
       "      <th>saab</th>\n",
       "      <td>15223.333333</td>\n",
       "    </tr>\n",
       "    <tr>\n",
       "      <th>subaru</th>\n",
       "      <td>8541.250000</td>\n",
       "    </tr>\n",
       "    <tr>\n",
       "      <th>toyota</th>\n",
       "      <td>9885.812500</td>\n",
       "    </tr>\n",
       "    <tr>\n",
       "      <th>volkswagen</th>\n",
       "      <td>10077.500000</td>\n",
       "    </tr>\n",
       "    <tr>\n",
       "      <th>volvo</th>\n",
       "      <td>18063.181818</td>\n",
       "    </tr>\n",
       "  </tbody>\n",
       "</table>\n",
       "</div>"
      ],
      "text/plain": [
       "                    price\n",
       "CompanyName              \n",
       "alfa-romero  15498.333333\n",
       "audi         17859.142857\n",
       "bmw          26118.750000\n",
       "buick        33647.000000\n",
       "chevrolet     6007.000000\n",
       "dodge         7875.444444\n",
       "honda         8184.692308\n",
       "isuzu         8916.250000\n",
       "jaguar       34600.000000\n",
       "mazda        10652.882353\n",
       "mercury      16503.000000\n",
       "mitsubishi    9239.769231\n",
       "nissan       10415.666667\n",
       "peugeot      15489.090909\n",
       "plymouth      7963.428571\n",
       "porsche      31400.400000\n",
       "renault       9595.000000\n",
       "saab         15223.333333\n",
       "subaru        8541.250000\n",
       "toyota        9885.812500\n",
       "volkswagen   10077.500000\n",
       "volvo        18063.181818"
      ]
     },
     "execution_count": 50,
     "metadata": {},
     "output_type": "execute_result"
    }
   ],
   "source": [
    "df.groupby(by='CompanyName')[['price']].mean()"
   ]
  },
  {
   "cell_type": "code",
   "execution_count": 51,
   "id": "c7b5acd7",
   "metadata": {},
   "outputs": [],
   "source": [
    "bins = [0,20000,30000,50000]\n",
    "car_cat = ['budget_friendly','medium','higher']"
   ]
  },
  {
   "cell_type": "code",
   "execution_count": 52,
   "id": "4ebcb3a3",
   "metadata": {},
   "outputs": [],
   "source": [
    "df['car_price_range'] = pd.cut(df['price'],right=False,bins=bins,labels = car_cat)"
   ]
  },
  {
   "cell_type": "code",
   "execution_count": 53,
   "id": "5009431e",
   "metadata": {},
   "outputs": [
    {
     "data": {
      "text/plain": [
       "car_price_range\n",
       "budget_friendly    179\n",
       "higher              15\n",
       "medium              11\n",
       "Name: count, dtype: int64"
      ]
     },
     "execution_count": 53,
     "metadata": {},
     "output_type": "execute_result"
    }
   ],
   "source": [
    "df['car_price_range'].value_counts()"
   ]
  },
  {
   "cell_type": "code",
   "execution_count": 54,
   "id": "48b649cf",
   "metadata": {},
   "outputs": [
    {
     "data": {
      "text/plain": [
       "Index(['symboling', 'fueltype', 'aspiration', 'doornumber', 'carbody',\n",
       "       'drivewheel', 'enginelocation', 'wheelbase', 'carlength', 'carwidth',\n",
       "       'carheight', 'curbweight', 'enginetype', 'cylindernumber', 'enginesize',\n",
       "       'fuelsystem', 'boreratio', 'stroke', 'compressionratio', 'horsepower',\n",
       "       'peakrpm', 'citympg', 'highwaympg', 'price', 'CompanyName',\n",
       "       'fueleconomy', 'car_price_range'],\n",
       "      dtype='object')"
      ]
     },
     "execution_count": 54,
     "metadata": {},
     "output_type": "execute_result"
    }
   ],
   "source": [
    "df.columns"
   ]
  },
  {
   "cell_type": "code",
   "execution_count": 55,
   "id": "e2190c76",
   "metadata": {},
   "outputs": [],
   "source": [
    "# Encoding\n",
    "\n",
    "def replace(a,b):\n",
    "    df['car_price_range'].replace(a,b,inplace=True)"
   ]
  },
  {
   "cell_type": "code",
   "execution_count": 56,
   "id": "8056f8c4",
   "metadata": {},
   "outputs": [],
   "source": [
    "replace('budget_friendly',-1)\n",
    "replace('medium',0)\n",
    "replace('higher',1)"
   ]
  },
  {
   "cell_type": "code",
   "execution_count": 57,
   "id": "aefae76e",
   "metadata": {},
   "outputs": [
    {
     "data": {
      "text/plain": [
       "car_price_range\n",
       "-1    179\n",
       "1      15\n",
       "0      11\n",
       "Name: count, dtype: int64"
      ]
     },
     "execution_count": 57,
     "metadata": {},
     "output_type": "execute_result"
    }
   ],
   "source": [
    "df['car_price_range'].value_counts()"
   ]
  },
  {
   "cell_type": "code",
   "execution_count": 58,
   "id": "9d00fc2a",
   "metadata": {},
   "outputs": [],
   "source": [
    "df['symboling']=df['symboling'].astype(int)"
   ]
  },
  {
   "cell_type": "code",
   "execution_count": 59,
   "id": "0d6314d8",
   "metadata": {},
   "outputs": [],
   "source": [
    "def replace(a,b):\n",
    "    df['cylindernumber'].replace(a,b,inplace=True)"
   ]
  },
  {
   "cell_type": "code",
   "execution_count": 60,
   "id": "639feb1d",
   "metadata": {},
   "outputs": [],
   "source": [
    "replace('two',2)\n",
    "replace('three',3)\n",
    "replace('four',4)\n",
    "replace('five',5)\n",
    "replace('six',6)\n",
    "replace('eight',8)\n",
    "replace('twelve',12)"
   ]
  },
  {
   "cell_type": "code",
   "execution_count": 61,
   "id": "30c1c549",
   "metadata": {},
   "outputs": [
    {
     "data": {
      "text/plain": [
       "cylindernumber\n",
       "4     159\n",
       "6      24\n",
       "5      11\n",
       "8       5\n",
       "2       4\n",
       "3       1\n",
       "12      1\n",
       "Name: count, dtype: int64"
      ]
     },
     "execution_count": 61,
     "metadata": {},
     "output_type": "execute_result"
    }
   ],
   "source": [
    "df['cylindernumber'].value_counts()"
   ]
  },
  {
   "cell_type": "code",
   "execution_count": 62,
   "id": "cfe8e0c3",
   "metadata": {},
   "outputs": [],
   "source": [
    "def replace(a,b):\n",
    "    df['doornumber'].replace(a,b,inplace=True)"
   ]
  },
  {
   "cell_type": "code",
   "execution_count": 63,
   "id": "e6b15a0e",
   "metadata": {},
   "outputs": [],
   "source": [
    "replace('two',2)\n",
    "replace('four',4)"
   ]
  },
  {
   "cell_type": "code",
   "execution_count": 64,
   "id": "b1ec51e2",
   "metadata": {},
   "outputs": [
    {
     "data": {
      "text/plain": [
       "doornumber\n",
       "4    115\n",
       "2     90\n",
       "Name: count, dtype: int64"
      ]
     },
     "execution_count": 64,
     "metadata": {},
     "output_type": "execute_result"
    }
   ],
   "source": [
    "df['doornumber'].value_counts()"
   ]
  },
  {
   "cell_type": "code",
   "execution_count": 65,
   "id": "6da4a001",
   "metadata": {},
   "outputs": [
    {
     "data": {
      "text/html": [
       "<div>\n",
       "<style scoped>\n",
       "    .dataframe tbody tr th:only-of-type {\n",
       "        vertical-align: middle;\n",
       "    }\n",
       "\n",
       "    .dataframe tbody tr th {\n",
       "        vertical-align: top;\n",
       "    }\n",
       "\n",
       "    .dataframe thead th {\n",
       "        text-align: right;\n",
       "    }\n",
       "</style>\n",
       "<table border=\"1\" class=\"dataframe\">\n",
       "  <thead>\n",
       "    <tr style=\"text-align: right;\">\n",
       "      <th></th>\n",
       "      <th>symboling</th>\n",
       "      <th>fueltype</th>\n",
       "      <th>aspiration</th>\n",
       "      <th>doornumber</th>\n",
       "      <th>carbody</th>\n",
       "      <th>drivewheel</th>\n",
       "      <th>enginelocation</th>\n",
       "      <th>wheelbase</th>\n",
       "      <th>carlength</th>\n",
       "      <th>carwidth</th>\n",
       "      <th>...</th>\n",
       "      <th>stroke</th>\n",
       "      <th>compressionratio</th>\n",
       "      <th>horsepower</th>\n",
       "      <th>peakrpm</th>\n",
       "      <th>citympg</th>\n",
       "      <th>highwaympg</th>\n",
       "      <th>price</th>\n",
       "      <th>CompanyName</th>\n",
       "      <th>fueleconomy</th>\n",
       "      <th>car_price_range</th>\n",
       "    </tr>\n",
       "  </thead>\n",
       "  <tbody>\n",
       "    <tr>\n",
       "      <th>0</th>\n",
       "      <td>3</td>\n",
       "      <td>gas</td>\n",
       "      <td>std</td>\n",
       "      <td>2</td>\n",
       "      <td>convertible</td>\n",
       "      <td>rwd</td>\n",
       "      <td>front</td>\n",
       "      <td>88.6</td>\n",
       "      <td>168.8</td>\n",
       "      <td>64.1</td>\n",
       "      <td>...</td>\n",
       "      <td>2.68</td>\n",
       "      <td>9.0</td>\n",
       "      <td>111</td>\n",
       "      <td>5000</td>\n",
       "      <td>21</td>\n",
       "      <td>27</td>\n",
       "      <td>13495</td>\n",
       "      <td>alfa-romero</td>\n",
       "      <td>23.10</td>\n",
       "      <td>-1</td>\n",
       "    </tr>\n",
       "    <tr>\n",
       "      <th>1</th>\n",
       "      <td>3</td>\n",
       "      <td>gas</td>\n",
       "      <td>std</td>\n",
       "      <td>2</td>\n",
       "      <td>convertible</td>\n",
       "      <td>rwd</td>\n",
       "      <td>front</td>\n",
       "      <td>88.6</td>\n",
       "      <td>168.8</td>\n",
       "      <td>64.1</td>\n",
       "      <td>...</td>\n",
       "      <td>2.68</td>\n",
       "      <td>9.0</td>\n",
       "      <td>111</td>\n",
       "      <td>5000</td>\n",
       "      <td>21</td>\n",
       "      <td>27</td>\n",
       "      <td>16500</td>\n",
       "      <td>alfa-romero</td>\n",
       "      <td>23.10</td>\n",
       "      <td>-1</td>\n",
       "    </tr>\n",
       "    <tr>\n",
       "      <th>2</th>\n",
       "      <td>1</td>\n",
       "      <td>gas</td>\n",
       "      <td>std</td>\n",
       "      <td>2</td>\n",
       "      <td>hatchback</td>\n",
       "      <td>rwd</td>\n",
       "      <td>front</td>\n",
       "      <td>94.5</td>\n",
       "      <td>171.2</td>\n",
       "      <td>65.5</td>\n",
       "      <td>...</td>\n",
       "      <td>3.47</td>\n",
       "      <td>9.0</td>\n",
       "      <td>154</td>\n",
       "      <td>5000</td>\n",
       "      <td>19</td>\n",
       "      <td>26</td>\n",
       "      <td>16500</td>\n",
       "      <td>alfa-romero</td>\n",
       "      <td>21.45</td>\n",
       "      <td>-1</td>\n",
       "    </tr>\n",
       "    <tr>\n",
       "      <th>3</th>\n",
       "      <td>2</td>\n",
       "      <td>gas</td>\n",
       "      <td>std</td>\n",
       "      <td>4</td>\n",
       "      <td>sedan</td>\n",
       "      <td>fwd</td>\n",
       "      <td>front</td>\n",
       "      <td>99.8</td>\n",
       "      <td>176.6</td>\n",
       "      <td>66.2</td>\n",
       "      <td>...</td>\n",
       "      <td>3.40</td>\n",
       "      <td>10.0</td>\n",
       "      <td>102</td>\n",
       "      <td>5500</td>\n",
       "      <td>24</td>\n",
       "      <td>30</td>\n",
       "      <td>13950</td>\n",
       "      <td>audi</td>\n",
       "      <td>26.10</td>\n",
       "      <td>-1</td>\n",
       "    </tr>\n",
       "    <tr>\n",
       "      <th>4</th>\n",
       "      <td>2</td>\n",
       "      <td>gas</td>\n",
       "      <td>std</td>\n",
       "      <td>4</td>\n",
       "      <td>sedan</td>\n",
       "      <td>4wd</td>\n",
       "      <td>front</td>\n",
       "      <td>99.4</td>\n",
       "      <td>176.6</td>\n",
       "      <td>66.4</td>\n",
       "      <td>...</td>\n",
       "      <td>3.40</td>\n",
       "      <td>8.0</td>\n",
       "      <td>115</td>\n",
       "      <td>5500</td>\n",
       "      <td>18</td>\n",
       "      <td>22</td>\n",
       "      <td>17450</td>\n",
       "      <td>audi</td>\n",
       "      <td>19.40</td>\n",
       "      <td>-1</td>\n",
       "    </tr>\n",
       "    <tr>\n",
       "      <th>...</th>\n",
       "      <td>...</td>\n",
       "      <td>...</td>\n",
       "      <td>...</td>\n",
       "      <td>...</td>\n",
       "      <td>...</td>\n",
       "      <td>...</td>\n",
       "      <td>...</td>\n",
       "      <td>...</td>\n",
       "      <td>...</td>\n",
       "      <td>...</td>\n",
       "      <td>...</td>\n",
       "      <td>...</td>\n",
       "      <td>...</td>\n",
       "      <td>...</td>\n",
       "      <td>...</td>\n",
       "      <td>...</td>\n",
       "      <td>...</td>\n",
       "      <td>...</td>\n",
       "      <td>...</td>\n",
       "      <td>...</td>\n",
       "      <td>...</td>\n",
       "    </tr>\n",
       "    <tr>\n",
       "      <th>200</th>\n",
       "      <td>-1</td>\n",
       "      <td>gas</td>\n",
       "      <td>std</td>\n",
       "      <td>4</td>\n",
       "      <td>sedan</td>\n",
       "      <td>rwd</td>\n",
       "      <td>front</td>\n",
       "      <td>109.1</td>\n",
       "      <td>188.8</td>\n",
       "      <td>68.9</td>\n",
       "      <td>...</td>\n",
       "      <td>3.15</td>\n",
       "      <td>9.5</td>\n",
       "      <td>114</td>\n",
       "      <td>5400</td>\n",
       "      <td>23</td>\n",
       "      <td>28</td>\n",
       "      <td>16845</td>\n",
       "      <td>volvo</td>\n",
       "      <td>24.75</td>\n",
       "      <td>-1</td>\n",
       "    </tr>\n",
       "    <tr>\n",
       "      <th>201</th>\n",
       "      <td>-1</td>\n",
       "      <td>gas</td>\n",
       "      <td>turbo</td>\n",
       "      <td>4</td>\n",
       "      <td>sedan</td>\n",
       "      <td>rwd</td>\n",
       "      <td>front</td>\n",
       "      <td>109.1</td>\n",
       "      <td>188.8</td>\n",
       "      <td>68.8</td>\n",
       "      <td>...</td>\n",
       "      <td>3.15</td>\n",
       "      <td>8.7</td>\n",
       "      <td>160</td>\n",
       "      <td>5300</td>\n",
       "      <td>19</td>\n",
       "      <td>25</td>\n",
       "      <td>19045</td>\n",
       "      <td>volvo</td>\n",
       "      <td>21.10</td>\n",
       "      <td>-1</td>\n",
       "    </tr>\n",
       "    <tr>\n",
       "      <th>202</th>\n",
       "      <td>-1</td>\n",
       "      <td>gas</td>\n",
       "      <td>std</td>\n",
       "      <td>4</td>\n",
       "      <td>sedan</td>\n",
       "      <td>rwd</td>\n",
       "      <td>front</td>\n",
       "      <td>109.1</td>\n",
       "      <td>188.8</td>\n",
       "      <td>68.9</td>\n",
       "      <td>...</td>\n",
       "      <td>2.87</td>\n",
       "      <td>8.8</td>\n",
       "      <td>134</td>\n",
       "      <td>5500</td>\n",
       "      <td>18</td>\n",
       "      <td>23</td>\n",
       "      <td>21485</td>\n",
       "      <td>volvo</td>\n",
       "      <td>19.75</td>\n",
       "      <td>0</td>\n",
       "    </tr>\n",
       "    <tr>\n",
       "      <th>203</th>\n",
       "      <td>-1</td>\n",
       "      <td>diesel</td>\n",
       "      <td>turbo</td>\n",
       "      <td>4</td>\n",
       "      <td>sedan</td>\n",
       "      <td>rwd</td>\n",
       "      <td>front</td>\n",
       "      <td>109.1</td>\n",
       "      <td>188.8</td>\n",
       "      <td>68.9</td>\n",
       "      <td>...</td>\n",
       "      <td>3.40</td>\n",
       "      <td>23.0</td>\n",
       "      <td>106</td>\n",
       "      <td>4800</td>\n",
       "      <td>26</td>\n",
       "      <td>27</td>\n",
       "      <td>22470</td>\n",
       "      <td>volvo</td>\n",
       "      <td>26.35</td>\n",
       "      <td>0</td>\n",
       "    </tr>\n",
       "    <tr>\n",
       "      <th>204</th>\n",
       "      <td>-1</td>\n",
       "      <td>gas</td>\n",
       "      <td>turbo</td>\n",
       "      <td>4</td>\n",
       "      <td>sedan</td>\n",
       "      <td>rwd</td>\n",
       "      <td>front</td>\n",
       "      <td>109.1</td>\n",
       "      <td>188.8</td>\n",
       "      <td>68.9</td>\n",
       "      <td>...</td>\n",
       "      <td>3.15</td>\n",
       "      <td>9.5</td>\n",
       "      <td>114</td>\n",
       "      <td>5400</td>\n",
       "      <td>19</td>\n",
       "      <td>25</td>\n",
       "      <td>22625</td>\n",
       "      <td>volvo</td>\n",
       "      <td>21.10</td>\n",
       "      <td>0</td>\n",
       "    </tr>\n",
       "  </tbody>\n",
       "</table>\n",
       "<p>205 rows × 27 columns</p>\n",
       "</div>"
      ],
      "text/plain": [
       "     symboling fueltype aspiration  doornumber      carbody drivewheel  \\\n",
       "0            3      gas        std           2  convertible        rwd   \n",
       "1            3      gas        std           2  convertible        rwd   \n",
       "2            1      gas        std           2    hatchback        rwd   \n",
       "3            2      gas        std           4        sedan        fwd   \n",
       "4            2      gas        std           4        sedan        4wd   \n",
       "..         ...      ...        ...         ...          ...        ...   \n",
       "200         -1      gas        std           4        sedan        rwd   \n",
       "201         -1      gas      turbo           4        sedan        rwd   \n",
       "202         -1      gas        std           4        sedan        rwd   \n",
       "203         -1   diesel      turbo           4        sedan        rwd   \n",
       "204         -1      gas      turbo           4        sedan        rwd   \n",
       "\n",
       "    enginelocation  wheelbase  carlength  carwidth  ...  stroke  \\\n",
       "0            front       88.6      168.8      64.1  ...    2.68   \n",
       "1            front       88.6      168.8      64.1  ...    2.68   \n",
       "2            front       94.5      171.2      65.5  ...    3.47   \n",
       "3            front       99.8      176.6      66.2  ...    3.40   \n",
       "4            front       99.4      176.6      66.4  ...    3.40   \n",
       "..             ...        ...        ...       ...  ...     ...   \n",
       "200          front      109.1      188.8      68.9  ...    3.15   \n",
       "201          front      109.1      188.8      68.8  ...    3.15   \n",
       "202          front      109.1      188.8      68.9  ...    2.87   \n",
       "203          front      109.1      188.8      68.9  ...    3.40   \n",
       "204          front      109.1      188.8      68.9  ...    3.15   \n",
       "\n",
       "     compressionratio horsepower  peakrpm  citympg highwaympg  price  \\\n",
       "0                 9.0        111     5000       21         27  13495   \n",
       "1                 9.0        111     5000       21         27  16500   \n",
       "2                 9.0        154     5000       19         26  16500   \n",
       "3                10.0        102     5500       24         30  13950   \n",
       "4                 8.0        115     5500       18         22  17450   \n",
       "..                ...        ...      ...      ...        ...    ...   \n",
       "200               9.5        114     5400       23         28  16845   \n",
       "201               8.7        160     5300       19         25  19045   \n",
       "202               8.8        134     5500       18         23  21485   \n",
       "203              23.0        106     4800       26         27  22470   \n",
       "204               9.5        114     5400       19         25  22625   \n",
       "\n",
       "     CompanyName  fueleconomy  car_price_range  \n",
       "0    alfa-romero        23.10               -1  \n",
       "1    alfa-romero        23.10               -1  \n",
       "2    alfa-romero        21.45               -1  \n",
       "3           audi        26.10               -1  \n",
       "4           audi        19.40               -1  \n",
       "..           ...          ...              ...  \n",
       "200        volvo        24.75               -1  \n",
       "201        volvo        21.10               -1  \n",
       "202        volvo        19.75                0  \n",
       "203        volvo        26.35                0  \n",
       "204        volvo        21.10                0  \n",
       "\n",
       "[205 rows x 27 columns]"
      ]
     },
     "execution_count": 65,
     "metadata": {},
     "output_type": "execute_result"
    }
   ],
   "source": [
    "df"
   ]
  },
  {
   "cell_type": "code",
   "execution_count": 66,
   "id": "2c5e60f0",
   "metadata": {},
   "outputs": [],
   "source": [
    "l=LabelEncoder()\n",
    "df['CompanyName']=l.fit_transform(df['CompanyName'])"
   ]
  },
  {
   "cell_type": "code",
   "execution_count": 67,
   "id": "d143e394",
   "metadata": {},
   "outputs": [],
   "source": [
    "df['car_price_range']=df['car_price_range'].astype(float)"
   ]
  },
  {
   "cell_type": "code",
   "execution_count": 69,
   "id": "a662d020",
   "metadata": {},
   "outputs": [
    {
     "data": {
      "text/plain": [
       "['fueltype',\n",
       " 'aspiration',\n",
       " 'carbody',\n",
       " 'drivewheel',\n",
       " 'enginelocation',\n",
       " 'enginetype',\n",
       " 'fuelsystem']"
      ]
     },
     "execution_count": 69,
     "metadata": {},
     "output_type": "execute_result"
    }
   ],
   "source": [
    "encode=df.select_dtypes(exclude=np.number).columns.to_list()\n",
    "encode"
   ]
  },
  {
   "cell_type": "code",
   "execution_count": 70,
   "id": "dd1dbc95",
   "metadata": {},
   "outputs": [],
   "source": [
    "# Dummies\n",
    "\n",
    "df_final=pd.get_dummies(df,columns=encode,drop_first=True,dtype=int)"
   ]
  },
  {
   "cell_type": "code",
   "execution_count": 71,
   "id": "356b2c85",
   "metadata": {},
   "outputs": [],
   "source": [
    "# Transformation\n",
    "\n",
    "trans=['compressionratio','wheelbase','carwidth','curbweight','enginesize','horsepower','citympg','stroke','highwaympg']"
   ]
  },
  {
   "cell_type": "code",
   "execution_count": 72,
   "id": "c4f72996",
   "metadata": {},
   "outputs": [],
   "source": [
    "p=PowerTransformer()"
   ]
  },
  {
   "cell_type": "code",
   "execution_count": 73,
   "id": "2705bf67",
   "metadata": {},
   "outputs": [],
   "source": [
    "df_final[trans]=p.fit_transform(df_final[trans])"
   ]
  },
  {
   "cell_type": "code",
   "execution_count": 74,
   "id": "e370fe8f",
   "metadata": {},
   "outputs": [
    {
     "data": {
      "text/plain": [
       "wheelbase          -0.003485\n",
       "carlength           0.155954\n",
       "carwidth            0.000000\n",
       "carheight           0.063123\n",
       "curbweight          0.024871\n",
       "enginesize         -0.002542\n",
       "boreratio           0.020156\n",
       "stroke              0.112143\n",
       "compressionratio    0.034222\n",
       "horsepower          0.049318\n",
       "peakrpm             0.075159\n",
       "citympg             0.001615\n",
       "highwaympg         -0.000526\n",
       "dtype: float64"
      ]
     },
     "execution_count": 74,
     "metadata": {},
     "output_type": "execute_result"
    }
   ],
   "source": [
    "df_final[num].skew()"
   ]
  },
  {
   "cell_type": "code",
   "execution_count": 75,
   "id": "9c46c955",
   "metadata": {},
   "outputs": [
    {
     "data": {
      "text/html": [
       "<div>\n",
       "<style scoped>\n",
       "    .dataframe tbody tr th:only-of-type {\n",
       "        vertical-align: middle;\n",
       "    }\n",
       "\n",
       "    .dataframe tbody tr th {\n",
       "        vertical-align: top;\n",
       "    }\n",
       "\n",
       "    .dataframe thead th {\n",
       "        text-align: right;\n",
       "    }\n",
       "</style>\n",
       "<table border=\"1\" class=\"dataframe\">\n",
       "  <thead>\n",
       "    <tr style=\"text-align: right;\">\n",
       "      <th></th>\n",
       "      <th>symboling</th>\n",
       "      <th>doornumber</th>\n",
       "      <th>wheelbase</th>\n",
       "      <th>carlength</th>\n",
       "      <th>carwidth</th>\n",
       "      <th>carheight</th>\n",
       "      <th>curbweight</th>\n",
       "      <th>cylindernumber</th>\n",
       "      <th>enginesize</th>\n",
       "      <th>boreratio</th>\n",
       "      <th>...</th>\n",
       "      <th>enginetype_ohcf</th>\n",
       "      <th>enginetype_ohcv</th>\n",
       "      <th>enginetype_rotor</th>\n",
       "      <th>fuelsystem_2bbl</th>\n",
       "      <th>fuelsystem_4bbl</th>\n",
       "      <th>fuelsystem_idi</th>\n",
       "      <th>fuelsystem_mfi</th>\n",
       "      <th>fuelsystem_mpfi</th>\n",
       "      <th>fuelsystem_spdi</th>\n",
       "      <th>fuelsystem_spfi</th>\n",
       "    </tr>\n",
       "  </thead>\n",
       "  <tbody>\n",
       "    <tr>\n",
       "      <th>0</th>\n",
       "      <td>3</td>\n",
       "      <td>2</td>\n",
       "      <td>-2.402418</td>\n",
       "      <td>168.8</td>\n",
       "      <td>-6.661338e-16</td>\n",
       "      <td>48.8</td>\n",
       "      <td>0.144823</td>\n",
       "      <td>4</td>\n",
       "      <td>0.380332</td>\n",
       "      <td>3.47</td>\n",
       "      <td>...</td>\n",
       "      <td>0</td>\n",
       "      <td>0</td>\n",
       "      <td>0</td>\n",
       "      <td>0</td>\n",
       "      <td>0</td>\n",
       "      <td>0</td>\n",
       "      <td>0</td>\n",
       "      <td>1</td>\n",
       "      <td>0</td>\n",
       "      <td>0</td>\n",
       "    </tr>\n",
       "    <tr>\n",
       "      <th>1</th>\n",
       "      <td>3</td>\n",
       "      <td>2</td>\n",
       "      <td>-2.402418</td>\n",
       "      <td>168.8</td>\n",
       "      <td>-6.661338e-16</td>\n",
       "      <td>48.8</td>\n",
       "      <td>0.144823</td>\n",
       "      <td>4</td>\n",
       "      <td>0.380332</td>\n",
       "      <td>3.47</td>\n",
       "      <td>...</td>\n",
       "      <td>0</td>\n",
       "      <td>0</td>\n",
       "      <td>0</td>\n",
       "      <td>0</td>\n",
       "      <td>0</td>\n",
       "      <td>0</td>\n",
       "      <td>0</td>\n",
       "      <td>1</td>\n",
       "      <td>0</td>\n",
       "      <td>0</td>\n",
       "    </tr>\n",
       "    <tr>\n",
       "      <th>2</th>\n",
       "      <td>1</td>\n",
       "      <td>2</td>\n",
       "      <td>-0.699849</td>\n",
       "      <td>171.2</td>\n",
       "      <td>-2.775558e-17</td>\n",
       "      <td>52.4</td>\n",
       "      <td>0.647098</td>\n",
       "      <td>6</td>\n",
       "      <td>0.890484</td>\n",
       "      <td>2.68</td>\n",
       "      <td>...</td>\n",
       "      <td>0</td>\n",
       "      <td>1</td>\n",
       "      <td>0</td>\n",
       "      <td>0</td>\n",
       "      <td>0</td>\n",
       "      <td>0</td>\n",
       "      <td>0</td>\n",
       "      <td>1</td>\n",
       "      <td>0</td>\n",
       "      <td>0</td>\n",
       "    </tr>\n",
       "    <tr>\n",
       "      <th>3</th>\n",
       "      <td>2</td>\n",
       "      <td>4</td>\n",
       "      <td>0.365001</td>\n",
       "      <td>176.6</td>\n",
       "      <td>2.220446e-16</td>\n",
       "      <td>54.3</td>\n",
       "      <td>-0.303501</td>\n",
       "      <td>4</td>\n",
       "      <td>-0.294503</td>\n",
       "      <td>3.19</td>\n",
       "      <td>...</td>\n",
       "      <td>0</td>\n",
       "      <td>0</td>\n",
       "      <td>0</td>\n",
       "      <td>0</td>\n",
       "      <td>0</td>\n",
       "      <td>0</td>\n",
       "      <td>0</td>\n",
       "      <td>1</td>\n",
       "      <td>0</td>\n",
       "      <td>0</td>\n",
       "    </tr>\n",
       "    <tr>\n",
       "      <th>4</th>\n",
       "      <td>2</td>\n",
       "      <td>4</td>\n",
       "      <td>0.296266</td>\n",
       "      <td>176.6</td>\n",
       "      <td>3.053113e-16</td>\n",
       "      <td>54.3</td>\n",
       "      <td>0.648780</td>\n",
       "      <td>5</td>\n",
       "      <td>0.535529</td>\n",
       "      <td>3.19</td>\n",
       "      <td>...</td>\n",
       "      <td>0</td>\n",
       "      <td>0</td>\n",
       "      <td>0</td>\n",
       "      <td>0</td>\n",
       "      <td>0</td>\n",
       "      <td>0</td>\n",
       "      <td>0</td>\n",
       "      <td>1</td>\n",
       "      <td>0</td>\n",
       "      <td>0</td>\n",
       "    </tr>\n",
       "    <tr>\n",
       "      <th>...</th>\n",
       "      <td>...</td>\n",
       "      <td>...</td>\n",
       "      <td>...</td>\n",
       "      <td>...</td>\n",
       "      <td>...</td>\n",
       "      <td>...</td>\n",
       "      <td>...</td>\n",
       "      <td>...</td>\n",
       "      <td>...</td>\n",
       "      <td>...</td>\n",
       "      <td>...</td>\n",
       "      <td>...</td>\n",
       "      <td>...</td>\n",
       "      <td>...</td>\n",
       "      <td>...</td>\n",
       "      <td>...</td>\n",
       "      <td>...</td>\n",
       "      <td>...</td>\n",
       "      <td>...</td>\n",
       "      <td>...</td>\n",
       "      <td>...</td>\n",
       "    </tr>\n",
       "    <tr>\n",
       "      <th>200</th>\n",
       "      <td>-1</td>\n",
       "      <td>4</td>\n",
       "      <td>1.579616</td>\n",
       "      <td>188.8</td>\n",
       "      <td>1.082467e-15</td>\n",
       "      <td>55.5</td>\n",
       "      <td>0.856578</td>\n",
       "      <td>4</td>\n",
       "      <td>0.654949</td>\n",
       "      <td>3.78</td>\n",
       "      <td>...</td>\n",
       "      <td>0</td>\n",
       "      <td>0</td>\n",
       "      <td>0</td>\n",
       "      <td>0</td>\n",
       "      <td>0</td>\n",
       "      <td>0</td>\n",
       "      <td>0</td>\n",
       "      <td>1</td>\n",
       "      <td>0</td>\n",
       "      <td>0</td>\n",
       "    </tr>\n",
       "    <tr>\n",
       "      <th>201</th>\n",
       "      <td>-1</td>\n",
       "      <td>4</td>\n",
       "      <td>1.579616</td>\n",
       "      <td>188.8</td>\n",
       "      <td>1.054712e-15</td>\n",
       "      <td>55.5</td>\n",
       "      <td>1.004682</td>\n",
       "      <td>4</td>\n",
       "      <td>0.654949</td>\n",
       "      <td>3.78</td>\n",
       "      <td>...</td>\n",
       "      <td>0</td>\n",
       "      <td>0</td>\n",
       "      <td>0</td>\n",
       "      <td>0</td>\n",
       "      <td>0</td>\n",
       "      <td>0</td>\n",
       "      <td>0</td>\n",
       "      <td>1</td>\n",
       "      <td>0</td>\n",
       "      <td>0</td>\n",
       "    </tr>\n",
       "    <tr>\n",
       "      <th>202</th>\n",
       "      <td>-1</td>\n",
       "      <td>4</td>\n",
       "      <td>1.579616</td>\n",
       "      <td>188.8</td>\n",
       "      <td>1.082467e-15</td>\n",
       "      <td>55.5</td>\n",
       "      <td>0.949090</td>\n",
       "      <td>6</td>\n",
       "      <td>1.258269</td>\n",
       "      <td>3.58</td>\n",
       "      <td>...</td>\n",
       "      <td>0</td>\n",
       "      <td>1</td>\n",
       "      <td>0</td>\n",
       "      <td>0</td>\n",
       "      <td>0</td>\n",
       "      <td>0</td>\n",
       "      <td>0</td>\n",
       "      <td>1</td>\n",
       "      <td>0</td>\n",
       "      <td>0</td>\n",
       "    </tr>\n",
       "    <tr>\n",
       "      <th>203</th>\n",
       "      <td>-1</td>\n",
       "      <td>4</td>\n",
       "      <td>1.579616</td>\n",
       "      <td>188.8</td>\n",
       "      <td>1.082467e-15</td>\n",
       "      <td>55.5</td>\n",
       "      <td>1.244126</td>\n",
       "      <td>6</td>\n",
       "      <td>0.744658</td>\n",
       "      <td>3.01</td>\n",
       "      <td>...</td>\n",
       "      <td>0</td>\n",
       "      <td>0</td>\n",
       "      <td>0</td>\n",
       "      <td>0</td>\n",
       "      <td>0</td>\n",
       "      <td>1</td>\n",
       "      <td>0</td>\n",
       "      <td>0</td>\n",
       "      <td>0</td>\n",
       "      <td>0</td>\n",
       "    </tr>\n",
       "    <tr>\n",
       "      <th>204</th>\n",
       "      <td>-1</td>\n",
       "      <td>4</td>\n",
       "      <td>1.579616</td>\n",
       "      <td>188.8</td>\n",
       "      <td>1.082467e-15</td>\n",
       "      <td>55.5</td>\n",
       "      <td>1.023959</td>\n",
       "      <td>4</td>\n",
       "      <td>0.654949</td>\n",
       "      <td>3.78</td>\n",
       "      <td>...</td>\n",
       "      <td>0</td>\n",
       "      <td>0</td>\n",
       "      <td>0</td>\n",
       "      <td>0</td>\n",
       "      <td>0</td>\n",
       "      <td>0</td>\n",
       "      <td>0</td>\n",
       "      <td>1</td>\n",
       "      <td>0</td>\n",
       "      <td>0</td>\n",
       "    </tr>\n",
       "  </tbody>\n",
       "</table>\n",
       "<p>205 rows × 42 columns</p>\n",
       "</div>"
      ],
      "text/plain": [
       "     symboling  doornumber  wheelbase  carlength      carwidth  carheight  \\\n",
       "0            3           2  -2.402418      168.8 -6.661338e-16       48.8   \n",
       "1            3           2  -2.402418      168.8 -6.661338e-16       48.8   \n",
       "2            1           2  -0.699849      171.2 -2.775558e-17       52.4   \n",
       "3            2           4   0.365001      176.6  2.220446e-16       54.3   \n",
       "4            2           4   0.296266      176.6  3.053113e-16       54.3   \n",
       "..         ...         ...        ...        ...           ...        ...   \n",
       "200         -1           4   1.579616      188.8  1.082467e-15       55.5   \n",
       "201         -1           4   1.579616      188.8  1.054712e-15       55.5   \n",
       "202         -1           4   1.579616      188.8  1.082467e-15       55.5   \n",
       "203         -1           4   1.579616      188.8  1.082467e-15       55.5   \n",
       "204         -1           4   1.579616      188.8  1.082467e-15       55.5   \n",
       "\n",
       "     curbweight  cylindernumber  enginesize  boreratio  ...  enginetype_ohcf  \\\n",
       "0      0.144823               4    0.380332       3.47  ...                0   \n",
       "1      0.144823               4    0.380332       3.47  ...                0   \n",
       "2      0.647098               6    0.890484       2.68  ...                0   \n",
       "3     -0.303501               4   -0.294503       3.19  ...                0   \n",
       "4      0.648780               5    0.535529       3.19  ...                0   \n",
       "..          ...             ...         ...        ...  ...              ...   \n",
       "200    0.856578               4    0.654949       3.78  ...                0   \n",
       "201    1.004682               4    0.654949       3.78  ...                0   \n",
       "202    0.949090               6    1.258269       3.58  ...                0   \n",
       "203    1.244126               6    0.744658       3.01  ...                0   \n",
       "204    1.023959               4    0.654949       3.78  ...                0   \n",
       "\n",
       "     enginetype_ohcv  enginetype_rotor  fuelsystem_2bbl  fuelsystem_4bbl  \\\n",
       "0                  0                 0                0                0   \n",
       "1                  0                 0                0                0   \n",
       "2                  1                 0                0                0   \n",
       "3                  0                 0                0                0   \n",
       "4                  0                 0                0                0   \n",
       "..               ...               ...              ...              ...   \n",
       "200                0                 0                0                0   \n",
       "201                0                 0                0                0   \n",
       "202                1                 0                0                0   \n",
       "203                0                 0                0                0   \n",
       "204                0                 0                0                0   \n",
       "\n",
       "     fuelsystem_idi  fuelsystem_mfi  fuelsystem_mpfi  fuelsystem_spdi  \\\n",
       "0                 0               0                1                0   \n",
       "1                 0               0                1                0   \n",
       "2                 0               0                1                0   \n",
       "3                 0               0                1                0   \n",
       "4                 0               0                1                0   \n",
       "..              ...             ...              ...              ...   \n",
       "200               0               0                1                0   \n",
       "201               0               0                1                0   \n",
       "202               0               0                1                0   \n",
       "203               1               0                0                0   \n",
       "204               0               0                1                0   \n",
       "\n",
       "     fuelsystem_spfi  \n",
       "0                  0  \n",
       "1                  0  \n",
       "2                  0  \n",
       "3                  0  \n",
       "4                  0  \n",
       "..               ...  \n",
       "200                0  \n",
       "201                0  \n",
       "202                0  \n",
       "203                0  \n",
       "204                0  \n",
       "\n",
       "[205 rows x 42 columns]"
      ]
     },
     "execution_count": 75,
     "metadata": {},
     "output_type": "execute_result"
    }
   ],
   "source": [
    "df_final"
   ]
  },
  {
   "cell_type": "code",
   "execution_count": 76,
   "id": "03f54fd4",
   "metadata": {},
   "outputs": [],
   "source": [
    "# Train Test Split\n",
    "\n",
    "x=df_final.drop('price',axis=1)\n",
    "y=df[['price']]"
   ]
  },
  {
   "cell_type": "code",
   "execution_count": 77,
   "id": "34919090",
   "metadata": {},
   "outputs": [],
   "source": [
    "xtrain,xtest,ytrain,ytest=train_test_split(x,y,train_size=0.7,random_state=1)"
   ]
  },
  {
   "cell_type": "code",
   "execution_count": 78,
   "id": "b90ea2ba",
   "metadata": {},
   "outputs": [
    {
     "name": "stdout",
     "output_type": "stream",
     "text": [
      "(143, 41)\n",
      "(62, 41)\n",
      "(143, 1)\n",
      "(62, 1)\n"
     ]
    }
   ],
   "source": [
    "print(xtrain.shape)\n",
    "print(xtest.shape)\n",
    "print(ytrain.shape)\n",
    "print(ytest.shape)"
   ]
  },
  {
   "cell_type": "code",
   "execution_count": null,
   "id": "97d9da9c",
   "metadata": {},
   "outputs": [],
   "source": [
    "# stats test to find whether train and test represent the overall data\n",
    "\n",
    "# Ho: Both train and test represent overall data\n",
    "# Ha: Both train and test does not represent overall data"
   ]
  },
  {
   "cell_type": "code",
   "execution_count": 82,
   "id": "55012584",
   "metadata": {},
   "outputs": [],
   "source": [
    "from scipy import stats\n",
    "\n",
    "def ttest_ind(train,test,feature):\n",
    "    stat,pval=stats.ttest_ind(train[feature],test[feature])\n",
    "    return pval"
   ]
  },
  {
   "cell_type": "code",
   "execution_count": 83,
   "id": "21ba8679",
   "metadata": {},
   "outputs": [
    {
     "name": "stdout",
     "output_type": "stream",
     "text": [
      "symboling 0.8759692581563854\n",
      "doornumber 0.1443878810413309\n",
      "wheelbase 0.9909618497097338\n",
      "carlength 0.23934352879463708\n",
      "carwidth 0.16450208672911848\n",
      "carheight 0.9181448145769309\n",
      "curbweight 0.24527742754217868\n",
      "cylindernumber 0.10312325588787971\n",
      "enginesize 0.19020481570970404\n",
      "boreratio 0.5290078683566211\n",
      "stroke 0.02932044041887761\n",
      "compressionratio 0.9692069887850986\n",
      "horsepower 0.14318549775092604\n",
      "peakrpm 0.8469734494748274\n",
      "citympg 0.17751964997143962\n",
      "highwaympg 0.19928687613645507\n",
      "CompanyName 0.5726739437306481\n",
      "fueleconomy 0.17511202268802636\n",
      "car_price_range 0.5120336526098922\n",
      "fueltype_gas 0.6279398325712917\n",
      "aspiration_turbo 0.7503020855266428\n",
      "carbody_hardtop 0.6504510182506538\n",
      "carbody_hatchback 0.2214595216632896\n",
      "carbody_sedan 0.5376515143584972\n",
      "carbody_wagon 0.4706675589545809\n",
      "drivewheel_fwd 0.40585290769219207\n",
      "drivewheel_rwd 0.5342630726915953\n",
      "enginelocation_rear 0.25273156352530984\n",
      "enginetype_dohcv 0.5115780684998885\n",
      "enginetype_l 0.3770780703824558\n",
      "enginetype_ohc 0.4497762714655569\n",
      "enginetype_ohcf 0.3720628475468033\n",
      "enginetype_ohcv 0.5632535763793558\n",
      "enginetype_rotor 0.3874533827127339\n",
      "fuelsystem_2bbl 0.5256779681213646\n",
      "fuelsystem_4bbl 0.9071397220108274\n",
      "fuelsystem_idi 0.6279398325712915\n",
      "fuelsystem_mfi 0.129162140501999\n",
      "fuelsystem_mpfi 0.46093939014001195\n",
      "fuelsystem_spdi 0.5942147239291087\n",
      "fuelsystem_spfi 0.5115780684998886\n"
     ]
    }
   ],
   "source": [
    "for i in xtrain.columns:\n",
    "    pvalue=ttest_ind(xtrain,xtest,i)\n",
    "    print(i,pvalue)"
   ]
  },
  {
   "cell_type": "code",
   "execution_count": 84,
   "id": "e65ec53d",
   "metadata": {},
   "outputs": [
    {
     "data": {
      "text/plain": [
       "symboling              5.000000e+00\n",
       "doornumber             2.000000e+00\n",
       "wheelbase              5.271980e+00\n",
       "carlength              5.800000e+01\n",
       "carwidth               3.802514e-15\n",
       "carheight              1.200000e+01\n",
       "curbweight             4.324790e+00\n",
       "cylindernumber         1.000000e+01\n",
       "enginesize             5.112272e+00\n",
       "boreratio              1.400000e+00\n",
       "stroke                 6.637222e+00\n",
       "compressionratio       4.918111e+00\n",
       "horsepower             4.335086e+00\n",
       "peakrpm                2.450000e+03\n",
       "citympg                5.166370e+00\n",
       "highwaympg             5.428297e+00\n",
       "CompanyName            2.100000e+01\n",
       "fueleconomy            3.635000e+01\n",
       "car_price_range        2.000000e+00\n",
       "fueltype_gas           1.000000e+00\n",
       "aspiration_turbo       1.000000e+00\n",
       "carbody_hardtop        1.000000e+00\n",
       "carbody_hatchback      1.000000e+00\n",
       "carbody_sedan          1.000000e+00\n",
       "carbody_wagon          1.000000e+00\n",
       "drivewheel_fwd         1.000000e+00\n",
       "drivewheel_rwd         1.000000e+00\n",
       "enginelocation_rear    1.000000e+00\n",
       "enginetype_dohcv       1.000000e+00\n",
       "enginetype_l           1.000000e+00\n",
       "enginetype_ohc         1.000000e+00\n",
       "enginetype_ohcf        1.000000e+00\n",
       "enginetype_ohcv        1.000000e+00\n",
       "enginetype_rotor       1.000000e+00\n",
       "fuelsystem_2bbl        1.000000e+00\n",
       "fuelsystem_4bbl        1.000000e+00\n",
       "fuelsystem_idi         1.000000e+00\n",
       "fuelsystem_mfi         0.000000e+00\n",
       "fuelsystem_mpfi        1.000000e+00\n",
       "fuelsystem_spdi        1.000000e+00\n",
       "fuelsystem_spfi        1.000000e+00\n",
       "dtype: float64"
      ]
     },
     "execution_count": 84,
     "metadata": {},
     "output_type": "execute_result"
    }
   ],
   "source": [
    "xtrain.max()-xtrain.min()"
   ]
  },
  {
   "cell_type": "code",
   "execution_count": 85,
   "id": "e669d963",
   "metadata": {},
   "outputs": [],
   "source": [
    "pd.set_option('display.max_columns',None)"
   ]
  },
  {
   "cell_type": "code",
   "execution_count": 86,
   "id": "a15e87e8",
   "metadata": {},
   "outputs": [
    {
     "data": {
      "text/html": [
       "<div>\n",
       "<style scoped>\n",
       "    .dataframe tbody tr th:only-of-type {\n",
       "        vertical-align: middle;\n",
       "    }\n",
       "\n",
       "    .dataframe tbody tr th {\n",
       "        vertical-align: top;\n",
       "    }\n",
       "\n",
       "    .dataframe thead th {\n",
       "        text-align: right;\n",
       "    }\n",
       "</style>\n",
       "<table border=\"1\" class=\"dataframe\">\n",
       "  <thead>\n",
       "    <tr style=\"text-align: right;\">\n",
       "      <th></th>\n",
       "      <th>symboling</th>\n",
       "      <th>doornumber</th>\n",
       "      <th>wheelbase</th>\n",
       "      <th>carlength</th>\n",
       "      <th>carwidth</th>\n",
       "      <th>carheight</th>\n",
       "      <th>curbweight</th>\n",
       "      <th>cylindernumber</th>\n",
       "      <th>enginesize</th>\n",
       "      <th>boreratio</th>\n",
       "      <th>stroke</th>\n",
       "      <th>compressionratio</th>\n",
       "      <th>horsepower</th>\n",
       "      <th>peakrpm</th>\n",
       "      <th>citympg</th>\n",
       "      <th>highwaympg</th>\n",
       "      <th>CompanyName</th>\n",
       "      <th>fueleconomy</th>\n",
       "      <th>car_price_range</th>\n",
       "      <th>fueltype_gas</th>\n",
       "      <th>aspiration_turbo</th>\n",
       "      <th>carbody_hardtop</th>\n",
       "      <th>carbody_hatchback</th>\n",
       "      <th>carbody_sedan</th>\n",
       "      <th>carbody_wagon</th>\n",
       "      <th>drivewheel_fwd</th>\n",
       "      <th>drivewheel_rwd</th>\n",
       "      <th>enginelocation_rear</th>\n",
       "      <th>enginetype_dohcv</th>\n",
       "      <th>enginetype_l</th>\n",
       "      <th>enginetype_ohc</th>\n",
       "      <th>enginetype_ohcf</th>\n",
       "      <th>enginetype_ohcv</th>\n",
       "      <th>enginetype_rotor</th>\n",
       "      <th>fuelsystem_2bbl</th>\n",
       "      <th>fuelsystem_4bbl</th>\n",
       "      <th>fuelsystem_idi</th>\n",
       "      <th>fuelsystem_mfi</th>\n",
       "      <th>fuelsystem_mpfi</th>\n",
       "      <th>fuelsystem_spdi</th>\n",
       "      <th>fuelsystem_spfi</th>\n",
       "    </tr>\n",
       "  </thead>\n",
       "  <tbody>\n",
       "    <tr>\n",
       "      <th>124</th>\n",
       "      <td>3</td>\n",
       "      <td>2</td>\n",
       "      <td>-0.383332</td>\n",
       "      <td>173.2</td>\n",
       "      <td>2.498002e-16</td>\n",
       "      <td>50.2</td>\n",
       "      <td>0.638670</td>\n",
       "      <td>4</td>\n",
       "      <td>0.968037</td>\n",
       "      <td>3.59</td>\n",
       "      <td>2.213116</td>\n",
       "      <td>-2.713927</td>\n",
       "      <td>1.147402</td>\n",
       "      <td>5000</td>\n",
       "      <td>-0.977418</td>\n",
       "      <td>-0.998961</td>\n",
       "      <td>14</td>\n",
       "      <td>20.75</td>\n",
       "      <td>-1.0</td>\n",
       "      <td>1</td>\n",
       "      <td>1</td>\n",
       "      <td>0</td>\n",
       "      <td>1</td>\n",
       "      <td>0</td>\n",
       "      <td>0</td>\n",
       "      <td>0</td>\n",
       "      <td>1</td>\n",
       "      <td>0</td>\n",
       "      <td>0</td>\n",
       "      <td>0</td>\n",
       "      <td>1</td>\n",
       "      <td>0</td>\n",
       "      <td>0</td>\n",
       "      <td>0</td>\n",
       "      <td>0</td>\n",
       "      <td>0</td>\n",
       "      <td>0</td>\n",
       "      <td>0</td>\n",
       "      <td>0</td>\n",
       "      <td>1</td>\n",
       "      <td>0</td>\n",
       "    </tr>\n",
       "    <tr>\n",
       "      <th>181</th>\n",
       "      <td>-1</td>\n",
       "      <td>4</td>\n",
       "      <td>1.060397</td>\n",
       "      <td>187.8</td>\n",
       "      <td>3.330669e-16</td>\n",
       "      <td>54.1</td>\n",
       "      <td>1.152498</td>\n",
       "      <td>6</td>\n",
       "      <td>1.059651</td>\n",
       "      <td>3.27</td>\n",
       "      <td>0.245662</td>\n",
       "      <td>0.139651</td>\n",
       "      <td>1.315353</td>\n",
       "      <td>5200</td>\n",
       "      <td>-0.977418</td>\n",
       "      <td>-0.998961</td>\n",
       "      <td>19</td>\n",
       "      <td>20.75</td>\n",
       "      <td>-1.0</td>\n",
       "      <td>1</td>\n",
       "      <td>0</td>\n",
       "      <td>0</td>\n",
       "      <td>0</td>\n",
       "      <td>0</td>\n",
       "      <td>1</td>\n",
       "      <td>0</td>\n",
       "      <td>1</td>\n",
       "      <td>0</td>\n",
       "      <td>0</td>\n",
       "      <td>0</td>\n",
       "      <td>0</td>\n",
       "      <td>0</td>\n",
       "      <td>0</td>\n",
       "      <td>0</td>\n",
       "      <td>0</td>\n",
       "      <td>0</td>\n",
       "      <td>0</td>\n",
       "      <td>0</td>\n",
       "      <td>1</td>\n",
       "      <td>0</td>\n",
       "      <td>0</td>\n",
       "    </tr>\n",
       "    <tr>\n",
       "      <th>154</th>\n",
       "      <td>0</td>\n",
       "      <td>4</td>\n",
       "      <td>-0.426838</td>\n",
       "      <td>169.7</td>\n",
       "      <td>-9.159340e-16</td>\n",
       "      <td>59.1</td>\n",
       "      <td>-0.412292</td>\n",
       "      <td>4</td>\n",
       "      <td>-1.061097</td>\n",
       "      <td>3.05</td>\n",
       "      <td>-0.779209</td>\n",
       "      <td>-0.014205</td>\n",
       "      <td>-1.460225</td>\n",
       "      <td>4800</td>\n",
       "      <td>0.394611</td>\n",
       "      <td>0.270559</td>\n",
       "      <td>19</td>\n",
       "      <td>28.75</td>\n",
       "      <td>-1.0</td>\n",
       "      <td>1</td>\n",
       "      <td>0</td>\n",
       "      <td>0</td>\n",
       "      <td>0</td>\n",
       "      <td>0</td>\n",
       "      <td>1</td>\n",
       "      <td>0</td>\n",
       "      <td>0</td>\n",
       "      <td>0</td>\n",
       "      <td>0</td>\n",
       "      <td>0</td>\n",
       "      <td>1</td>\n",
       "      <td>0</td>\n",
       "      <td>0</td>\n",
       "      <td>0</td>\n",
       "      <td>1</td>\n",
       "      <td>0</td>\n",
       "      <td>0</td>\n",
       "      <td>0</td>\n",
       "      <td>0</td>\n",
       "      <td>0</td>\n",
       "      <td>0</td>\n",
       "    </tr>\n",
       "    <tr>\n",
       "      <th>53</th>\n",
       "      <td>1</td>\n",
       "      <td>4</td>\n",
       "      <td>-1.046129</td>\n",
       "      <td>166.8</td>\n",
       "      <td>-6.106227e-16</td>\n",
       "      <td>54.1</td>\n",
       "      <td>-1.336608</td>\n",
       "      <td>4</td>\n",
       "      <td>-1.114909</td>\n",
       "      <td>3.03</td>\n",
       "      <td>-0.412843</td>\n",
       "      <td>-0.014205</td>\n",
       "      <td>-1.108154</td>\n",
       "      <td>5000</td>\n",
       "      <td>0.933598</td>\n",
       "      <td>1.061201</td>\n",
       "      <td>9</td>\n",
       "      <td>33.45</td>\n",
       "      <td>-1.0</td>\n",
       "      <td>1</td>\n",
       "      <td>0</td>\n",
       "      <td>0</td>\n",
       "      <td>0</td>\n",
       "      <td>1</td>\n",
       "      <td>0</td>\n",
       "      <td>1</td>\n",
       "      <td>0</td>\n",
       "      <td>0</td>\n",
       "      <td>0</td>\n",
       "      <td>0</td>\n",
       "      <td>1</td>\n",
       "      <td>0</td>\n",
       "      <td>0</td>\n",
       "      <td>0</td>\n",
       "      <td>1</td>\n",
       "      <td>0</td>\n",
       "      <td>0</td>\n",
       "      <td>0</td>\n",
       "      <td>0</td>\n",
       "      <td>0</td>\n",
       "      <td>0</td>\n",
       "    </tr>\n",
       "    <tr>\n",
       "      <th>94</th>\n",
       "      <td>1</td>\n",
       "      <td>2</td>\n",
       "      <td>-0.699849</td>\n",
       "      <td>165.3</td>\n",
       "      <td>-8.049117e-16</td>\n",
       "      <td>54.5</td>\n",
       "      <td>-1.318321</td>\n",
       "      <td>4</td>\n",
       "      <td>-0.808333</td>\n",
       "      <td>3.15</td>\n",
       "      <td>0.041699</td>\n",
       "      <td>0.280661</td>\n",
       "      <td>-1.054264</td>\n",
       "      <td>5200</td>\n",
       "      <td>0.933598</td>\n",
       "      <td>0.936915</td>\n",
       "      <td>12</td>\n",
       "      <td>33.10</td>\n",
       "      <td>-1.0</td>\n",
       "      <td>1</td>\n",
       "      <td>0</td>\n",
       "      <td>0</td>\n",
       "      <td>0</td>\n",
       "      <td>1</td>\n",
       "      <td>0</td>\n",
       "      <td>1</td>\n",
       "      <td>0</td>\n",
       "      <td>0</td>\n",
       "      <td>0</td>\n",
       "      <td>0</td>\n",
       "      <td>1</td>\n",
       "      <td>0</td>\n",
       "      <td>0</td>\n",
       "      <td>0</td>\n",
       "      <td>1</td>\n",
       "      <td>0</td>\n",
       "      <td>0</td>\n",
       "      <td>0</td>\n",
       "      <td>0</td>\n",
       "      <td>0</td>\n",
       "      <td>0</td>\n",
       "    </tr>\n",
       "  </tbody>\n",
       "</table>\n",
       "</div>"
      ],
      "text/plain": [
       "     symboling  doornumber  wheelbase  carlength      carwidth  carheight  \\\n",
       "124          3           2  -0.383332      173.2  2.498002e-16       50.2   \n",
       "181         -1           4   1.060397      187.8  3.330669e-16       54.1   \n",
       "154          0           4  -0.426838      169.7 -9.159340e-16       59.1   \n",
       "53           1           4  -1.046129      166.8 -6.106227e-16       54.1   \n",
       "94           1           2  -0.699849      165.3 -8.049117e-16       54.5   \n",
       "\n",
       "     curbweight  cylindernumber  enginesize  boreratio    stroke  \\\n",
       "124    0.638670               4    0.968037       3.59  2.213116   \n",
       "181    1.152498               6    1.059651       3.27  0.245662   \n",
       "154   -0.412292               4   -1.061097       3.05 -0.779209   \n",
       "53    -1.336608               4   -1.114909       3.03 -0.412843   \n",
       "94    -1.318321               4   -0.808333       3.15  0.041699   \n",
       "\n",
       "     compressionratio  horsepower  peakrpm   citympg  highwaympg  CompanyName  \\\n",
       "124         -2.713927    1.147402     5000 -0.977418   -0.998961           14   \n",
       "181          0.139651    1.315353     5200 -0.977418   -0.998961           19   \n",
       "154         -0.014205   -1.460225     4800  0.394611    0.270559           19   \n",
       "53          -0.014205   -1.108154     5000  0.933598    1.061201            9   \n",
       "94           0.280661   -1.054264     5200  0.933598    0.936915           12   \n",
       "\n",
       "     fueleconomy  car_price_range  fueltype_gas  aspiration_turbo  \\\n",
       "124        20.75             -1.0             1                 1   \n",
       "181        20.75             -1.0             1                 0   \n",
       "154        28.75             -1.0             1                 0   \n",
       "53         33.45             -1.0             1                 0   \n",
       "94         33.10             -1.0             1                 0   \n",
       "\n",
       "     carbody_hardtop  carbody_hatchback  carbody_sedan  carbody_wagon  \\\n",
       "124                0                  1              0              0   \n",
       "181                0                  0              0              1   \n",
       "154                0                  0              0              1   \n",
       "53                 0                  0              1              0   \n",
       "94                 0                  0              1              0   \n",
       "\n",
       "     drivewheel_fwd  drivewheel_rwd  enginelocation_rear  enginetype_dohcv  \\\n",
       "124               0               1                    0                 0   \n",
       "181               0               1                    0                 0   \n",
       "154               0               0                    0                 0   \n",
       "53                1               0                    0                 0   \n",
       "94                1               0                    0                 0   \n",
       "\n",
       "     enginetype_l  enginetype_ohc  enginetype_ohcf  enginetype_ohcv  \\\n",
       "124             0               1                0                0   \n",
       "181             0               0                0                0   \n",
       "154             0               1                0                0   \n",
       "53              0               1                0                0   \n",
       "94              0               1                0                0   \n",
       "\n",
       "     enginetype_rotor  fuelsystem_2bbl  fuelsystem_4bbl  fuelsystem_idi  \\\n",
       "124                 0                0                0               0   \n",
       "181                 0                0                0               0   \n",
       "154                 0                1                0               0   \n",
       "53                  0                1                0               0   \n",
       "94                  0                1                0               0   \n",
       "\n",
       "     fuelsystem_mfi  fuelsystem_mpfi  fuelsystem_spdi  fuelsystem_spfi  \n",
       "124               0                0                1                0  \n",
       "181               0                1                0                0  \n",
       "154               0                0                0                0  \n",
       "53                0                0                0                0  \n",
       "94                0                0                0                0  "
      ]
     },
     "execution_count": 86,
     "metadata": {},
     "output_type": "execute_result"
    }
   ],
   "source": [
    "xtrain.head()"
   ]
  },
  {
   "cell_type": "code",
   "execution_count": 87,
   "id": "47e72055",
   "metadata": {},
   "outputs": [],
   "source": [
    "scale=['carlength','carheight','peakrpm','fueleconomy']"
   ]
  },
  {
   "cell_type": "code",
   "execution_count": 88,
   "id": "88f223c9",
   "metadata": {},
   "outputs": [],
   "source": [
    "# Scaling\n",
    "\n",
    "s=StandardScaler()\n",
    "xtrain[scale]=s.fit_transform(xtrain[scale])\n",
    "xtest[scale]=s.transform(xtest[scale])"
   ]
  },
  {
   "cell_type": "code",
   "execution_count": 89,
   "id": "7a84c1d4",
   "metadata": {},
   "outputs": [],
   "source": [
    "# Base Model\n",
    "\n",
    "xtrain_c=sm.add_constant(xtrain)\n",
    "xtest_c=sm.add_constant(xtest)"
   ]
  },
  {
   "cell_type": "code",
   "execution_count": 90,
   "id": "242a526e",
   "metadata": {},
   "outputs": [],
   "source": [
    "basemodel=sm.OLS(ytrain,xtrain_c).fit()"
   ]
  },
  {
   "cell_type": "code",
   "execution_count": 91,
   "id": "a12394e6",
   "metadata": {},
   "outputs": [
    {
     "name": "stdout",
     "output_type": "stream",
     "text": [
      "                            OLS Regression Results                            \n",
      "==============================================================================\n",
      "Dep. Variable:                  price   R-squared:                       0.967\n",
      "Model:                            OLS   Adj. R-squared:                  0.956\n",
      "Method:                 Least Squares   F-statistic:                     83.90\n",
      "Date:                Fri, 05 Jul 2024   Prob (F-statistic):           8.18e-63\n",
      "Time:                        11:25:25   Log-Likelihood:                -1244.2\n",
      "No. Observations:                 143   AIC:                             2564.\n",
      "Df Residuals:                     105   BIC:                             2677.\n",
      "Df Model:                          37                                         \n",
      "Covariance Type:            nonrobust                                         \n",
      "=======================================================================================\n",
      "                          coef    std err          t      P>|t|      [0.025      0.975]\n",
      "---------------------------------------------------------------------------------------\n",
      "const                1.009e+04   3753.622      2.689      0.008    2651.520    1.75e+04\n",
      "symboling             451.1014    211.174      2.136      0.035      32.383     869.820\n",
      "doornumber            146.5364    291.580      0.503      0.616    -431.613     724.685\n",
      "wheelbase            1180.5124    467.362      2.526      0.013     253.820    2107.205\n",
      "carlength             361.7800    538.522      0.672      0.503    -706.009    1429.569\n",
      "carwidth              3.25e-11   1.46e-11      2.221      0.029    3.48e-12    6.15e-11\n",
      "carheight             368.0314    295.552      1.245      0.216    -217.994     954.057\n",
      "curbweight           2007.2130    819.781      2.448      0.016     381.739    3632.687\n",
      "cylindernumber        237.1981    465.879      0.509      0.612    -686.554    1160.950\n",
      "enginesize          -1504.9553   1049.582     -1.434      0.155   -3586.083     576.172\n",
      "boreratio            1280.7103   1191.599      1.075      0.285   -1082.011    3643.432\n",
      "stroke                -44.0520    267.883     -0.164      0.870    -575.214     487.110\n",
      "compressionratio      -19.9003    510.998     -0.039      0.969   -1033.116     993.315\n",
      "horsepower            855.7850    918.725      0.931      0.354    -965.877    2677.447\n",
      "peakrpm               -47.3303    320.507     -0.148      0.883    -682.837     588.176\n",
      "citympg             -6477.9662   1605.432     -4.035      0.000   -9661.241   -3294.691\n",
      "highwaympg          -2437.9246   1118.912     -2.179      0.032   -4656.521    -219.328\n",
      "CompanyName          -140.1518     32.078     -4.369      0.000    -203.756     -76.548\n",
      "fueleconomy          7584.5158   1677.373      4.522      0.000    4258.595    1.09e+04\n",
      "car_price_range      5608.6927    579.523      9.678      0.000    4459.605    6757.780\n",
      "fueltype_gas         3514.8421   2197.898      1.599      0.113    -843.185    7872.869\n",
      "aspiration_turbo      174.8346    978.129      0.179      0.858   -1764.614    2114.283\n",
      "carbody_hardtop     -2341.4636   1294.647     -1.809      0.073   -4908.508     225.581\n",
      "carbody_hatchback   -2597.1409   1088.443     -2.386      0.019   -4755.322    -438.960\n",
      "carbody_sedan       -2756.3814   1200.215     -2.297      0.024   -5136.185    -376.578\n",
      "carbody_wagon       -3524.5344   1349.088     -2.613      0.010   -6199.526    -849.543\n",
      "drivewheel_fwd        517.3453   1018.831      0.508      0.613   -1502.809    2537.499\n",
      "drivewheel_rwd       2088.3593   1158.137      1.803      0.074    -208.013    4384.732\n",
      "enginelocation_rear  7425.5782   2388.063      3.109      0.002    2690.491    1.22e+04\n",
      "enginetype_dohcv     1054.6136   2565.716      0.411      0.682   -4032.728    6141.955\n",
      "enginetype_l        -3303.1555   1231.297     -2.683      0.008   -5744.590    -861.721\n",
      "enginetype_ohc          3.1136    815.508      0.004      0.997   -1613.887    1620.114\n",
      "enginetype_ohcf       320.6647   1426.721      0.225      0.823   -2508.259    3149.588\n",
      "enginetype_ohcv       565.1341   1047.077      0.540      0.591   -1511.027    2641.295\n",
      "enginetype_rotor    -2763.2419   1718.099     -1.608      0.111   -6169.915     643.431\n",
      "fuelsystem_2bbl       534.7516   1116.045      0.479      0.633   -1678.160    2747.663\n",
      "fuelsystem_4bbl     -2763.2419   1718.099     -1.608      0.111   -6169.915     643.431\n",
      "fuelsystem_idi       6579.4175   1993.100      3.301      0.001    2627.468    1.05e+04\n",
      "fuelsystem_mfi               0          0        nan        nan           0           0\n",
      "fuelsystem_mpfi       894.1997   1261.863      0.709      0.480   -1607.842    3396.241\n",
      "fuelsystem_spdi      -315.2982   1684.792     -0.187      0.852   -3655.929    3025.333\n",
      "fuelsystem_spfi     -1639.7823   2178.268     -0.753      0.453   -5958.886    2679.322\n",
      "==============================================================================\n",
      "Omnibus:                       15.399   Durbin-Watson:                   1.984\n",
      "Prob(Omnibus):                  0.000   Jarque-Bera (JB):               45.222\n",
      "Skew:                           0.255   Prob(JB):                     1.51e-10\n",
      "Kurtosis:                       5.707   Cond. No.                     1.08e+16\n",
      "==============================================================================\n",
      "\n",
      "Notes:\n",
      "[1] Standard Errors assume that the covariance matrix of the errors is correctly specified.\n",
      "[2] The smallest eigenvalue is 2.83e-28. This might indicate that there are\n",
      "strong multicollinearity problems or that the design matrix is singular.\n"
     ]
    }
   ],
   "source": [
    "print(basemodel.summary())"
   ]
  },
  {
   "cell_type": "code",
   "execution_count": 93,
   "id": "cbe29ac5",
   "metadata": {},
   "outputs": [
    {
     "data": {
      "text/plain": [
       "const                   True\n",
       "symboling               True\n",
       "doornumber             False\n",
       "wheelbase               True\n",
       "carlength              False\n",
       "carwidth                True\n",
       "carheight              False\n",
       "curbweight              True\n",
       "cylindernumber         False\n",
       "enginesize             False\n",
       "boreratio              False\n",
       "stroke                 False\n",
       "compressionratio       False\n",
       "horsepower             False\n",
       "peakrpm                False\n",
       "citympg                 True\n",
       "highwaympg              True\n",
       "CompanyName             True\n",
       "fueleconomy             True\n",
       "car_price_range         True\n",
       "fueltype_gas           False\n",
       "aspiration_turbo       False\n",
       "carbody_hardtop        False\n",
       "carbody_hatchback       True\n",
       "carbody_sedan           True\n",
       "carbody_wagon           True\n",
       "drivewheel_fwd         False\n",
       "drivewheel_rwd         False\n",
       "enginelocation_rear     True\n",
       "enginetype_dohcv       False\n",
       "enginetype_l            True\n",
       "enginetype_ohc         False\n",
       "enginetype_ohcf        False\n",
       "enginetype_ohcv        False\n",
       "enginetype_rotor       False\n",
       "fuelsystem_2bbl        False\n",
       "fuelsystem_4bbl        False\n",
       "fuelsystem_idi          True\n",
       "fuelsystem_mfi         False\n",
       "fuelsystem_mpfi        False\n",
       "fuelsystem_spdi        False\n",
       "fuelsystem_spfi        False\n",
       "dtype: bool"
      ]
     },
     "execution_count": 93,
     "metadata": {},
     "output_type": "execute_result"
    }
   ],
   "source": [
    "basemodel.pvalues<0.05"
   ]
  },
  {
   "cell_type": "code",
   "execution_count": 94,
   "id": "c74d55f7",
   "metadata": {},
   "outputs": [
    {
     "data": {
      "text/plain": [
       "['const',\n",
       " 'symboling',\n",
       " 'doornumber',\n",
       " 'wheelbase',\n",
       " 'carlength',\n",
       " 'carwidth',\n",
       " 'carheight',\n",
       " 'curbweight',\n",
       " 'cylindernumber',\n",
       " 'enginesize',\n",
       " 'boreratio',\n",
       " 'stroke',\n",
       " 'compressionratio',\n",
       " 'horsepower',\n",
       " 'peakrpm',\n",
       " 'citympg',\n",
       " 'highwaympg',\n",
       " 'CompanyName',\n",
       " 'fueleconomy',\n",
       " 'car_price_range',\n",
       " 'fueltype_gas',\n",
       " 'aspiration_turbo',\n",
       " 'carbody_hardtop',\n",
       " 'carbody_hatchback',\n",
       " 'carbody_sedan',\n",
       " 'carbody_wagon',\n",
       " 'drivewheel_fwd',\n",
       " 'drivewheel_rwd',\n",
       " 'enginelocation_rear',\n",
       " 'enginetype_dohcv',\n",
       " 'enginetype_l',\n",
       " 'enginetype_ohc',\n",
       " 'enginetype_ohcf',\n",
       " 'enginetype_ohcv',\n",
       " 'enginetype_rotor',\n",
       " 'fuelsystem_2bbl',\n",
       " 'fuelsystem_4bbl',\n",
       " 'fuelsystem_idi',\n",
       " 'fuelsystem_mfi',\n",
       " 'fuelsystem_mpfi',\n",
       " 'fuelsystem_spdi',\n",
       " 'fuelsystem_spfi']"
      ]
     },
     "execution_count": 94,
     "metadata": {},
     "output_type": "execute_result"
    }
   ],
   "source": [
    "cl=xtrain_c.columns.to_list()\n",
    "cl"
   ]
  },
  {
   "cell_type": "code",
   "execution_count": 96,
   "id": "fec3412c",
   "metadata": {},
   "outputs": [
    {
     "data": {
      "text/html": [
       "<div>\n",
       "<style scoped>\n",
       "    .dataframe tbody tr th:only-of-type {\n",
       "        vertical-align: middle;\n",
       "    }\n",
       "\n",
       "    .dataframe tbody tr th {\n",
       "        vertical-align: top;\n",
       "    }\n",
       "\n",
       "    .dataframe thead th {\n",
       "        text-align: right;\n",
       "    }\n",
       "</style>\n",
       "<table border=\"1\" class=\"dataframe\">\n",
       "  <thead>\n",
       "    <tr style=\"text-align: right;\">\n",
       "      <th></th>\n",
       "      <th>VIF</th>\n",
       "    </tr>\n",
       "  </thead>\n",
       "  <tbody>\n",
       "    <tr>\n",
       "      <th>fueltype_gas</th>\n",
       "      <td>inf</td>\n",
       "    </tr>\n",
       "    <tr>\n",
       "      <th>fuelsystem_idi</th>\n",
       "      <td>inf</td>\n",
       "    </tr>\n",
       "    <tr>\n",
       "      <th>fuelsystem_4bbl</th>\n",
       "      <td>inf</td>\n",
       "    </tr>\n",
       "    <tr>\n",
       "      <th>enginetype_rotor</th>\n",
       "      <td>inf</td>\n",
       "    </tr>\n",
       "    <tr>\n",
       "      <th>fueleconomy</th>\n",
       "      <td>139.770105</td>\n",
       "    </tr>\n",
       "    <tr>\n",
       "      <th>citympg</th>\n",
       "      <td>126.293617</td>\n",
       "    </tr>\n",
       "    <tr>\n",
       "      <th>highwaympg</th>\n",
       "      <td>60.108271</td>\n",
       "    </tr>\n",
       "    <tr>\n",
       "      <th>enginesize</th>\n",
       "      <td>50.394827</td>\n",
       "    </tr>\n",
       "    <tr>\n",
       "      <th>horsepower</th>\n",
       "      <td>41.728965</td>\n",
       "    </tr>\n",
       "    <tr>\n",
       "      <th>curbweight</th>\n",
       "      <td>31.231883</td>\n",
       "    </tr>\n",
       "    <tr>\n",
       "      <th>fuelsystem_mpfi</th>\n",
       "      <td>19.727748</td>\n",
       "    </tr>\n",
       "    <tr>\n",
       "      <th>carbody_sedan</th>\n",
       "      <td>17.868230</td>\n",
       "    </tr>\n",
       "    <tr>\n",
       "      <th>drivewheel_rwd</th>\n",
       "      <td>15.770608</td>\n",
       "    </tr>\n",
       "    <tr>\n",
       "      <th>carlength</th>\n",
       "      <td>14.406594</td>\n",
       "    </tr>\n",
       "    <tr>\n",
       "      <th>cylindernumber</th>\n",
       "      <td>14.290996</td>\n",
       "    </tr>\n",
       "    <tr>\n",
       "      <th>fuelsystem_2bbl</th>\n",
       "      <td>13.797845</td>\n",
       "    </tr>\n",
       "    <tr>\n",
       "      <th>carbody_hatchback</th>\n",
       "      <td>12.692074</td>\n",
       "    </tr>\n",
       "    <tr>\n",
       "      <th>drivewheel_fwd</th>\n",
       "      <td>12.663798</td>\n",
       "    </tr>\n",
       "    <tr>\n",
       "      <th>compressionratio</th>\n",
       "      <td>12.288475</td>\n",
       "    </tr>\n",
       "    <tr>\n",
       "      <th>wheelbase</th>\n",
       "      <td>10.830164</td>\n",
       "    </tr>\n",
       "    <tr>\n",
       "      <th>carbody_wagon</th>\n",
       "      <td>10.416899</td>\n",
       "    </tr>\n",
       "    <tr>\n",
       "      <th>carwidth</th>\n",
       "      <td>9.598333</td>\n",
       "    </tr>\n",
       "    <tr>\n",
       "      <th>enginetype_ohcf</th>\n",
       "      <td>7.773442</td>\n",
       "    </tr>\n",
       "    <tr>\n",
       "      <th>aspiration_turbo</th>\n",
       "      <td>6.856410</td>\n",
       "    </tr>\n",
       "    <tr>\n",
       "      <th>enginetype_ohc</th>\n",
       "      <td>6.853454</td>\n",
       "    </tr>\n",
       "    <tr>\n",
       "      <th>fuelsystem_spdi</th>\n",
       "      <td>6.564661</td>\n",
       "    </tr>\n",
       "    <tr>\n",
       "      <th>enginelocation_rear</th>\n",
       "      <td>5.818669</td>\n",
       "    </tr>\n",
       "    <tr>\n",
       "      <th>car_price_range</th>\n",
       "      <td>5.632811</td>\n",
       "    </tr>\n",
       "    <tr>\n",
       "      <th>boreratio</th>\n",
       "      <td>5.188148</td>\n",
       "    </tr>\n",
       "    <tr>\n",
       "      <th>peakrpm</th>\n",
       "      <td>5.103059</td>\n",
       "    </tr>\n",
       "    <tr>\n",
       "      <th>carheight</th>\n",
       "      <td>4.339340</td>\n",
       "    </tr>\n",
       "    <tr>\n",
       "      <th>doornumber</th>\n",
       "      <td>4.072912</td>\n",
       "    </tr>\n",
       "    <tr>\n",
       "      <th>symboling</th>\n",
       "      <td>3.634811</td>\n",
       "    </tr>\n",
       "    <tr>\n",
       "      <th>enginetype_ohcv</th>\n",
       "      <td>3.542355</td>\n",
       "    </tr>\n",
       "    <tr>\n",
       "      <th>enginetype_l</th>\n",
       "      <td>3.506270</td>\n",
       "    </tr>\n",
       "    <tr>\n",
       "      <th>stroke</th>\n",
       "      <td>3.433756</td>\n",
       "    </tr>\n",
       "    <tr>\n",
       "      <th>carbody_hardtop</th>\n",
       "      <td>2.809535</td>\n",
       "    </tr>\n",
       "    <tr>\n",
       "      <th>enginetype_dohcv</th>\n",
       "      <td>2.270850</td>\n",
       "    </tr>\n",
       "    <tr>\n",
       "      <th>CompanyName</th>\n",
       "      <td>2.021451</td>\n",
       "    </tr>\n",
       "    <tr>\n",
       "      <th>fuelsystem_spfi</th>\n",
       "      <td>1.636794</td>\n",
       "    </tr>\n",
       "    <tr>\n",
       "      <th>const</th>\n",
       "      <td>0.000000</td>\n",
       "    </tr>\n",
       "    <tr>\n",
       "      <th>fuelsystem_mfi</th>\n",
       "      <td>NaN</td>\n",
       "    </tr>\n",
       "  </tbody>\n",
       "</table>\n",
       "</div>"
      ],
      "text/plain": [
       "                            VIF\n",
       "fueltype_gas                inf\n",
       "fuelsystem_idi              inf\n",
       "fuelsystem_4bbl             inf\n",
       "enginetype_rotor            inf\n",
       "fueleconomy          139.770105\n",
       "citympg              126.293617\n",
       "highwaympg            60.108271\n",
       "enginesize            50.394827\n",
       "horsepower            41.728965\n",
       "curbweight            31.231883\n",
       "fuelsystem_mpfi       19.727748\n",
       "carbody_sedan         17.868230\n",
       "drivewheel_rwd        15.770608\n",
       "carlength             14.406594\n",
       "cylindernumber        14.290996\n",
       "fuelsystem_2bbl       13.797845\n",
       "carbody_hatchback     12.692074\n",
       "drivewheel_fwd        12.663798\n",
       "compressionratio      12.288475\n",
       "wheelbase             10.830164\n",
       "carbody_wagon         10.416899\n",
       "carwidth               9.598333\n",
       "enginetype_ohcf        7.773442\n",
       "aspiration_turbo       6.856410\n",
       "enginetype_ohc         6.853454\n",
       "fuelsystem_spdi        6.564661\n",
       "enginelocation_rear    5.818669\n",
       "car_price_range        5.632811\n",
       "boreratio              5.188148\n",
       "peakrpm                5.103059\n",
       "carheight              4.339340\n",
       "doornumber             4.072912\n",
       "symboling              3.634811\n",
       "enginetype_ohcv        3.542355\n",
       "enginetype_l           3.506270\n",
       "stroke                 3.433756\n",
       "carbody_hardtop        2.809535\n",
       "enginetype_dohcv       2.270850\n",
       "CompanyName            2.021451\n",
       "fuelsystem_spfi        1.636794\n",
       "const                  0.000000\n",
       "fuelsystem_mfi              NaN"
      ]
     },
     "execution_count": 96,
     "metadata": {},
     "output_type": "execute_result"
    }
   ],
   "source": [
    "from statsmodels.stats.outliers_influence import variance_inflation_factor as VIF\n",
    "\n",
    "\n",
    "vif=[VIF(xtrain_c.values,i) for i in range(xtrain_c.shape[1])]\n",
    "vif_df=pd.DataFrame(vif,index=cl,columns=['VIF'])\n",
    "vif_df.sort_values(by='VIF',ascending=False)"
   ]
  },
  {
   "cell_type": "code",
   "execution_count": 97,
   "id": "85fc0c53",
   "metadata": {},
   "outputs": [
    {
     "data": {
      "text/html": [
       "<style>#sk-container-id-1 {color: black;background-color: white;}#sk-container-id-1 pre{padding: 0;}#sk-container-id-1 div.sk-toggleable {background-color: white;}#sk-container-id-1 label.sk-toggleable__label {cursor: pointer;display: block;width: 100%;margin-bottom: 0;padding: 0.3em;box-sizing: border-box;text-align: center;}#sk-container-id-1 label.sk-toggleable__label-arrow:before {content: \"▸\";float: left;margin-right: 0.25em;color: #696969;}#sk-container-id-1 label.sk-toggleable__label-arrow:hover:before {color: black;}#sk-container-id-1 div.sk-estimator:hover label.sk-toggleable__label-arrow:before {color: black;}#sk-container-id-1 div.sk-toggleable__content {max-height: 0;max-width: 0;overflow: hidden;text-align: left;background-color: #f0f8ff;}#sk-container-id-1 div.sk-toggleable__content pre {margin: 0.2em;color: black;border-radius: 0.25em;background-color: #f0f8ff;}#sk-container-id-1 input.sk-toggleable__control:checked~div.sk-toggleable__content {max-height: 200px;max-width: 100%;overflow: auto;}#sk-container-id-1 input.sk-toggleable__control:checked~label.sk-toggleable__label-arrow:before {content: \"▾\";}#sk-container-id-1 div.sk-estimator input.sk-toggleable__control:checked~label.sk-toggleable__label {background-color: #d4ebff;}#sk-container-id-1 div.sk-label input.sk-toggleable__control:checked~label.sk-toggleable__label {background-color: #d4ebff;}#sk-container-id-1 input.sk-hidden--visually {border: 0;clip: rect(1px 1px 1px 1px);clip: rect(1px, 1px, 1px, 1px);height: 1px;margin: -1px;overflow: hidden;padding: 0;position: absolute;width: 1px;}#sk-container-id-1 div.sk-estimator {font-family: monospace;background-color: #f0f8ff;border: 1px dotted black;border-radius: 0.25em;box-sizing: border-box;margin-bottom: 0.5em;}#sk-container-id-1 div.sk-estimator:hover {background-color: #d4ebff;}#sk-container-id-1 div.sk-parallel-item::after {content: \"\";width: 100%;border-bottom: 1px solid gray;flex-grow: 1;}#sk-container-id-1 div.sk-label:hover label.sk-toggleable__label {background-color: #d4ebff;}#sk-container-id-1 div.sk-serial::before {content: \"\";position: absolute;border-left: 1px solid gray;box-sizing: border-box;top: 0;bottom: 0;left: 50%;z-index: 0;}#sk-container-id-1 div.sk-serial {display: flex;flex-direction: column;align-items: center;background-color: white;padding-right: 0.2em;padding-left: 0.2em;position: relative;}#sk-container-id-1 div.sk-item {position: relative;z-index: 1;}#sk-container-id-1 div.sk-parallel {display: flex;align-items: stretch;justify-content: center;background-color: white;position: relative;}#sk-container-id-1 div.sk-item::before, #sk-container-id-1 div.sk-parallel-item::before {content: \"\";position: absolute;border-left: 1px solid gray;box-sizing: border-box;top: 0;bottom: 0;left: 50%;z-index: -1;}#sk-container-id-1 div.sk-parallel-item {display: flex;flex-direction: column;z-index: 1;position: relative;background-color: white;}#sk-container-id-1 div.sk-parallel-item:first-child::after {align-self: flex-end;width: 50%;}#sk-container-id-1 div.sk-parallel-item:last-child::after {align-self: flex-start;width: 50%;}#sk-container-id-1 div.sk-parallel-item:only-child::after {width: 0;}#sk-container-id-1 div.sk-dashed-wrapped {border: 1px dashed gray;margin: 0 0.4em 0.5em 0.4em;box-sizing: border-box;padding-bottom: 0.4em;background-color: white;}#sk-container-id-1 div.sk-label label {font-family: monospace;font-weight: bold;display: inline-block;line-height: 1.2em;}#sk-container-id-1 div.sk-label-container {text-align: center;}#sk-container-id-1 div.sk-container {/* jupyter's `normalize.less` sets `[hidden] { display: none; }` but bootstrap.min.css set `[hidden] { display: none !important; }` so we also need the `!important` here to be able to override the default hidden behavior on the sphinx rendered scikit-learn.org. See: https://github.com/scikit-learn/scikit-learn/issues/21755 */display: inline-block !important;position: relative;}#sk-container-id-1 div.sk-text-repr-fallback {display: none;}</style><div id=\"sk-container-id-1\" class=\"sk-top-container\"><div class=\"sk-text-repr-fallback\"><pre>RFE(estimator=LinearRegression(), n_features_to_select=7)</pre><b>In a Jupyter environment, please rerun this cell to show the HTML representation or trust the notebook. <br />On GitHub, the HTML representation is unable to render, please try loading this page with nbviewer.org.</b></div><div class=\"sk-container\" hidden><div class=\"sk-item sk-dashed-wrapped\"><div class=\"sk-label-container\"><div class=\"sk-label sk-toggleable\"><input class=\"sk-toggleable__control sk-hidden--visually\" id=\"sk-estimator-id-1\" type=\"checkbox\" ><label for=\"sk-estimator-id-1\" class=\"sk-toggleable__label sk-toggleable__label-arrow\">RFE</label><div class=\"sk-toggleable__content\"><pre>RFE(estimator=LinearRegression(), n_features_to_select=7)</pre></div></div></div><div class=\"sk-parallel\"><div class=\"sk-parallel-item\"><div class=\"sk-item\"><div class=\"sk-label-container\"><div class=\"sk-label sk-toggleable\"><input class=\"sk-toggleable__control sk-hidden--visually\" id=\"sk-estimator-id-2\" type=\"checkbox\" ><label for=\"sk-estimator-id-2\" class=\"sk-toggleable__label sk-toggleable__label-arrow\">estimator: LinearRegression</label><div class=\"sk-toggleable__content\"><pre>LinearRegression()</pre></div></div></div><div class=\"sk-serial\"><div class=\"sk-item\"><div class=\"sk-estimator sk-toggleable\"><input class=\"sk-toggleable__control sk-hidden--visually\" id=\"sk-estimator-id-3\" type=\"checkbox\" ><label for=\"sk-estimator-id-3\" class=\"sk-toggleable__label sk-toggleable__label-arrow\">LinearRegression</label><div class=\"sk-toggleable__content\"><pre>LinearRegression()</pre></div></div></div></div></div></div></div></div></div></div>"
      ],
      "text/plain": [
       "RFE(estimator=LinearRegression(), n_features_to_select=7)"
      ]
     },
     "execution_count": 97,
     "metadata": {},
     "output_type": "execute_result"
    }
   ],
   "source": [
    "# Feature Selection\n",
    "\n",
    "from sklearn.feature_selection import RFE\n",
    "\n",
    "\n",
    "lr=LinearRegression()\n",
    "rfe=RFE(estimator=lr,n_features_to_select=7)\n",
    "rfe.fit(xtrain_c,ytrain)"
   ]
  },
  {
   "cell_type": "code",
   "execution_count": 98,
   "id": "8015102c",
   "metadata": {},
   "outputs": [
    {
     "data": {
      "text/plain": [
       "array([31, 17, 24, 12, 32, 35, 22,  3, 21, 14, 25, 29, 30, 13, 34,  1,  1,\n",
       "       28,  1,  1,  5, 23,  9,  7,  8,  6, 19, 11,  1, 26, 10, 18, 33, 16,\n",
       "        4, 27,  1,  1, 36, 20,  2, 15])"
      ]
     },
     "execution_count": 98,
     "metadata": {},
     "output_type": "execute_result"
    }
   ],
   "source": [
    "r=rfe.ranking_\n",
    "r"
   ]
  },
  {
   "cell_type": "code",
   "execution_count": 99,
   "id": "4182e50c",
   "metadata": {},
   "outputs": [
    {
     "data": {
      "text/html": [
       "<div>\n",
       "<style scoped>\n",
       "    .dataframe tbody tr th:only-of-type {\n",
       "        vertical-align: middle;\n",
       "    }\n",
       "\n",
       "    .dataframe tbody tr th {\n",
       "        vertical-align: top;\n",
       "    }\n",
       "\n",
       "    .dataframe thead th {\n",
       "        text-align: right;\n",
       "    }\n",
       "</style>\n",
       "<table border=\"1\" class=\"dataframe\">\n",
       "  <thead>\n",
       "    <tr style=\"text-align: right;\">\n",
       "      <th></th>\n",
       "      <th>Rank based on RFE</th>\n",
       "    </tr>\n",
       "  </thead>\n",
       "  <tbody>\n",
       "    <tr>\n",
       "      <th>car_price_range</th>\n",
       "      <td>1</td>\n",
       "    </tr>\n",
       "    <tr>\n",
       "      <th>fuelsystem_idi</th>\n",
       "      <td>1</td>\n",
       "    </tr>\n",
       "    <tr>\n",
       "      <th>fuelsystem_4bbl</th>\n",
       "      <td>1</td>\n",
       "    </tr>\n",
       "    <tr>\n",
       "      <th>highwaympg</th>\n",
       "      <td>1</td>\n",
       "    </tr>\n",
       "    <tr>\n",
       "      <th>enginelocation_rear</th>\n",
       "      <td>1</td>\n",
       "    </tr>\n",
       "    <tr>\n",
       "      <th>citympg</th>\n",
       "      <td>1</td>\n",
       "    </tr>\n",
       "    <tr>\n",
       "      <th>fueleconomy</th>\n",
       "      <td>1</td>\n",
       "    </tr>\n",
       "    <tr>\n",
       "      <th>fuelsystem_spdi</th>\n",
       "      <td>2</td>\n",
       "    </tr>\n",
       "    <tr>\n",
       "      <th>curbweight</th>\n",
       "      <td>3</td>\n",
       "    </tr>\n",
       "    <tr>\n",
       "      <th>enginetype_rotor</th>\n",
       "      <td>4</td>\n",
       "    </tr>\n",
       "    <tr>\n",
       "      <th>fueltype_gas</th>\n",
       "      <td>5</td>\n",
       "    </tr>\n",
       "    <tr>\n",
       "      <th>carbody_wagon</th>\n",
       "      <td>6</td>\n",
       "    </tr>\n",
       "    <tr>\n",
       "      <th>carbody_hatchback</th>\n",
       "      <td>7</td>\n",
       "    </tr>\n",
       "    <tr>\n",
       "      <th>carbody_sedan</th>\n",
       "      <td>8</td>\n",
       "    </tr>\n",
       "    <tr>\n",
       "      <th>carbody_hardtop</th>\n",
       "      <td>9</td>\n",
       "    </tr>\n",
       "    <tr>\n",
       "      <th>enginetype_l</th>\n",
       "      <td>10</td>\n",
       "    </tr>\n",
       "    <tr>\n",
       "      <th>drivewheel_rwd</th>\n",
       "      <td>11</td>\n",
       "    </tr>\n",
       "    <tr>\n",
       "      <th>wheelbase</th>\n",
       "      <td>12</td>\n",
       "    </tr>\n",
       "    <tr>\n",
       "      <th>horsepower</th>\n",
       "      <td>13</td>\n",
       "    </tr>\n",
       "    <tr>\n",
       "      <th>enginesize</th>\n",
       "      <td>14</td>\n",
       "    </tr>\n",
       "    <tr>\n",
       "      <th>fuelsystem_spfi</th>\n",
       "      <td>15</td>\n",
       "    </tr>\n",
       "    <tr>\n",
       "      <th>enginetype_ohcv</th>\n",
       "      <td>16</td>\n",
       "    </tr>\n",
       "    <tr>\n",
       "      <th>symboling</th>\n",
       "      <td>17</td>\n",
       "    </tr>\n",
       "    <tr>\n",
       "      <th>enginetype_ohc</th>\n",
       "      <td>18</td>\n",
       "    </tr>\n",
       "    <tr>\n",
       "      <th>drivewheel_fwd</th>\n",
       "      <td>19</td>\n",
       "    </tr>\n",
       "    <tr>\n",
       "      <th>fuelsystem_mpfi</th>\n",
       "      <td>20</td>\n",
       "    </tr>\n",
       "    <tr>\n",
       "      <th>cylindernumber</th>\n",
       "      <td>21</td>\n",
       "    </tr>\n",
       "    <tr>\n",
       "      <th>carheight</th>\n",
       "      <td>22</td>\n",
       "    </tr>\n",
       "    <tr>\n",
       "      <th>aspiration_turbo</th>\n",
       "      <td>23</td>\n",
       "    </tr>\n",
       "    <tr>\n",
       "      <th>doornumber</th>\n",
       "      <td>24</td>\n",
       "    </tr>\n",
       "    <tr>\n",
       "      <th>boreratio</th>\n",
       "      <td>25</td>\n",
       "    </tr>\n",
       "    <tr>\n",
       "      <th>enginetype_dohcv</th>\n",
       "      <td>26</td>\n",
       "    </tr>\n",
       "    <tr>\n",
       "      <th>fuelsystem_2bbl</th>\n",
       "      <td>27</td>\n",
       "    </tr>\n",
       "    <tr>\n",
       "      <th>CompanyName</th>\n",
       "      <td>28</td>\n",
       "    </tr>\n",
       "    <tr>\n",
       "      <th>stroke</th>\n",
       "      <td>29</td>\n",
       "    </tr>\n",
       "    <tr>\n",
       "      <th>compressionratio</th>\n",
       "      <td>30</td>\n",
       "    </tr>\n",
       "    <tr>\n",
       "      <th>const</th>\n",
       "      <td>31</td>\n",
       "    </tr>\n",
       "    <tr>\n",
       "      <th>carlength</th>\n",
       "      <td>32</td>\n",
       "    </tr>\n",
       "    <tr>\n",
       "      <th>enginetype_ohcf</th>\n",
       "      <td>33</td>\n",
       "    </tr>\n",
       "    <tr>\n",
       "      <th>peakrpm</th>\n",
       "      <td>34</td>\n",
       "    </tr>\n",
       "    <tr>\n",
       "      <th>carwidth</th>\n",
       "      <td>35</td>\n",
       "    </tr>\n",
       "    <tr>\n",
       "      <th>fuelsystem_mfi</th>\n",
       "      <td>36</td>\n",
       "    </tr>\n",
       "  </tbody>\n",
       "</table>\n",
       "</div>"
      ],
      "text/plain": [
       "                     Rank based on RFE\n",
       "car_price_range                      1\n",
       "fuelsystem_idi                       1\n",
       "fuelsystem_4bbl                      1\n",
       "highwaympg                           1\n",
       "enginelocation_rear                  1\n",
       "citympg                              1\n",
       "fueleconomy                          1\n",
       "fuelsystem_spdi                      2\n",
       "curbweight                           3\n",
       "enginetype_rotor                     4\n",
       "fueltype_gas                         5\n",
       "carbody_wagon                        6\n",
       "carbody_hatchback                    7\n",
       "carbody_sedan                        8\n",
       "carbody_hardtop                      9\n",
       "enginetype_l                        10\n",
       "drivewheel_rwd                      11\n",
       "wheelbase                           12\n",
       "horsepower                          13\n",
       "enginesize                          14\n",
       "fuelsystem_spfi                     15\n",
       "enginetype_ohcv                     16\n",
       "symboling                           17\n",
       "enginetype_ohc                      18\n",
       "drivewheel_fwd                      19\n",
       "fuelsystem_mpfi                     20\n",
       "cylindernumber                      21\n",
       "carheight                           22\n",
       "aspiration_turbo                    23\n",
       "doornumber                          24\n",
       "boreratio                           25\n",
       "enginetype_dohcv                    26\n",
       "fuelsystem_2bbl                     27\n",
       "CompanyName                         28\n",
       "stroke                              29\n",
       "compressionratio                    30\n",
       "const                               31\n",
       "carlength                           32\n",
       "enginetype_ohcf                     33\n",
       "peakrpm                             34\n",
       "carwidth                            35\n",
       "fuelsystem_mfi                      36"
      ]
     },
     "execution_count": 99,
     "metadata": {},
     "output_type": "execute_result"
    }
   ],
   "source": [
    "rank=pd.DataFrame(r,index=cl,columns=['Rank based on RFE'])\n",
    "rank.sort_values(by='Rank based on RFE')"
   ]
  },
  {
   "cell_type": "code",
   "execution_count": 100,
   "id": "0e9869e7",
   "metadata": {},
   "outputs": [
    {
     "data": {
      "text/plain": [
       "['citympg',\n",
       " 'highwaympg',\n",
       " 'fueleconomy',\n",
       " 'car_price_range',\n",
       " 'enginelocation_rear',\n",
       " 'fuelsystem_4bbl',\n",
       " 'fuelsystem_idi']"
      ]
     },
     "execution_count": 100,
     "metadata": {},
     "output_type": "execute_result"
    }
   ],
   "source": [
    "selected=rank[rank['Rank based on RFE']==1].index.to_list()\n",
    "selected"
   ]
  },
  {
   "cell_type": "code",
   "execution_count": 101,
   "id": "3adf003c",
   "metadata": {},
   "outputs": [],
   "source": [
    "# New train and test using above columns\n",
    "\n",
    "xtrain_new=xtrain_c[selected]\n",
    "xtest_new=xtest_c[selected]"
   ]
  },
  {
   "cell_type": "code",
   "execution_count": 103,
   "id": "981e4108",
   "metadata": {},
   "outputs": [
    {
     "data": {
      "text/html": [
       "<div>\n",
       "<style scoped>\n",
       "    .dataframe tbody tr th:only-of-type {\n",
       "        vertical-align: middle;\n",
       "    }\n",
       "\n",
       "    .dataframe tbody tr th {\n",
       "        vertical-align: top;\n",
       "    }\n",
       "\n",
       "    .dataframe thead th {\n",
       "        text-align: right;\n",
       "    }\n",
       "</style>\n",
       "<table border=\"1\" class=\"dataframe\">\n",
       "  <thead>\n",
       "    <tr style=\"text-align: right;\">\n",
       "      <th></th>\n",
       "      <th>VIF</th>\n",
       "    </tr>\n",
       "  </thead>\n",
       "  <tbody>\n",
       "    <tr>\n",
       "      <th>citympg</th>\n",
       "      <td>34.139954</td>\n",
       "    </tr>\n",
       "    <tr>\n",
       "      <th>highwaympg</th>\n",
       "      <td>21.278328</td>\n",
       "    </tr>\n",
       "    <tr>\n",
       "      <th>fueleconomy</th>\n",
       "      <td>44.390570</td>\n",
       "    </tr>\n",
       "    <tr>\n",
       "      <th>car_price_range</th>\n",
       "      <td>1.160211</td>\n",
       "    </tr>\n",
       "    <tr>\n",
       "      <th>enginelocation_rear</th>\n",
       "      <td>1.192455</td>\n",
       "    </tr>\n",
       "    <tr>\n",
       "      <th>fuelsystem_4bbl</th>\n",
       "      <td>1.078471</td>\n",
       "    </tr>\n",
       "    <tr>\n",
       "      <th>fuelsystem_idi</th>\n",
       "      <td>1.197786</td>\n",
       "    </tr>\n",
       "  </tbody>\n",
       "</table>\n",
       "</div>"
      ],
      "text/plain": [
       "                           VIF\n",
       "citympg              34.139954\n",
       "highwaympg           21.278328\n",
       "fueleconomy          44.390570\n",
       "car_price_range       1.160211\n",
       "enginelocation_rear   1.192455\n",
       "fuelsystem_4bbl       1.078471\n",
       "fuelsystem_idi        1.197786"
      ]
     },
     "execution_count": 103,
     "metadata": {},
     "output_type": "execute_result"
    }
   ],
   "source": [
    "# Finding VIF for the above data\n",
    "\n",
    "vif=[VIF(xtrain_new.values,i)for i in range(xtrain_new.shape[1])]\n",
    "vif_df=pd.DataFrame(vif,index=selected,columns=['VIF'])\n",
    "vif_df"
   ]
  },
  {
   "cell_type": "code",
   "execution_count": 104,
   "id": "13615710",
   "metadata": {},
   "outputs": [
    {
     "data": {
      "text/plain": [
       "Index(['citympg', 'highwaympg', 'fueleconomy', 'car_price_range',\n",
       "       'enginelocation_rear', 'fuelsystem_4bbl', 'fuelsystem_idi'],\n",
       "      dtype='object')"
      ]
     },
     "execution_count": 104,
     "metadata": {},
     "output_type": "execute_result"
    }
   ],
   "source": [
    "vif_df.index"
   ]
  },
  {
   "cell_type": "code",
   "execution_count": 105,
   "id": "38bb2e07",
   "metadata": {},
   "outputs": [],
   "source": [
    "xtrain_final=xtrain[['highwaympg', 'fueleconomy', 'car_price_range',\n",
    "       'enginelocation_rear', 'fuelsystem_4bbl', 'fuelsystem_idi']]\n",
    "\n",
    "xtest_final=xtest[['highwaympg', 'fueleconomy', 'car_price_range',\n",
    "       'enginelocation_rear', 'fuelsystem_4bbl', 'fuelsystem_idi']]"
   ]
  },
  {
   "cell_type": "code",
   "execution_count": 106,
   "id": "ce5bcc23",
   "metadata": {},
   "outputs": [],
   "source": [
    "xtrain_final=sm.add_constant(xtrain_final)\n",
    "xtest_final=sm.add_constant(xtest_final)"
   ]
  },
  {
   "cell_type": "code",
   "execution_count": 107,
   "id": "509dccfb",
   "metadata": {},
   "outputs": [
    {
     "name": "stdout",
     "output_type": "stream",
     "text": [
      "                            OLS Regression Results                            \n",
      "==============================================================================\n",
      "Dep. Variable:                  price   R-squared:                       0.908\n",
      "Model:                            OLS   Adj. R-squared:                  0.904\n",
      "Method:                 Least Squares   F-statistic:                     224.5\n",
      "Date:                Fri, 05 Jul 2024   Prob (F-statistic):           5.47e-68\n",
      "Time:                        11:48:25   Log-Likelihood:                -1317.9\n",
      "No. Observations:                 143   AIC:                             2650.\n",
      "Df Residuals:                     136   BIC:                             2671.\n",
      "Df Model:                           6                                         \n",
      "Covariance Type:            nonrobust                                         \n",
      "=======================================================================================\n",
      "                          coef    std err          t      P>|t|      [0.025      0.975]\n",
      "---------------------------------------------------------------------------------------\n",
      "const                1.958e+04    488.715     40.074      0.000    1.86e+04    2.06e+04\n",
      "highwaympg          -2778.8067   1056.396     -2.630      0.010   -4867.894    -689.720\n",
      "fueleconomy         -1040.5802   1015.948     -1.024      0.308   -3049.680     968.519\n",
      "car_price_range      8437.9655    491.046     17.184      0.000    7466.893    9409.038\n",
      "enginelocation_rear  3096.3219   1738.963      1.781      0.077    -342.582    6535.226\n",
      "fuelsystem_4bbl     -3369.0970   1809.845     -1.862      0.065   -6948.175     209.981\n",
      "fuelsystem_idi       4432.3659    771.390      5.746      0.000    2906.896    5957.836\n",
      "==============================================================================\n",
      "Omnibus:                       12.084   Durbin-Watson:                   2.081\n",
      "Prob(Omnibus):                  0.002   Jarque-Bera (JB):               12.605\n",
      "Skew:                           0.661   Prob(JB):                      0.00183\n",
      "Kurtosis:                       3.606   Cond. No.                         13.4\n",
      "==============================================================================\n",
      "\n",
      "Notes:\n",
      "[1] Standard Errors assume that the covariance matrix of the errors is correctly specified.\n"
     ]
    }
   ],
   "source": [
    "model2=sm.OLS(ytrain,xtrain_final).fit()\n",
    "print(model2.summary())"
   ]
  },
  {
   "cell_type": "code",
   "execution_count": 108,
   "id": "64801232",
   "metadata": {},
   "outputs": [],
   "source": [
    "ccc=xtrain_final.columns.to_list()"
   ]
  },
  {
   "cell_type": "code",
   "execution_count": 110,
   "id": "d3bf65a5",
   "metadata": {},
   "outputs": [
    {
     "data": {
      "text/html": [
       "<div>\n",
       "<style scoped>\n",
       "    .dataframe tbody tr th:only-of-type {\n",
       "        vertical-align: middle;\n",
       "    }\n",
       "\n",
       "    .dataframe tbody tr th {\n",
       "        vertical-align: top;\n",
       "    }\n",
       "\n",
       "    .dataframe thead th {\n",
       "        text-align: right;\n",
       "    }\n",
       "</style>\n",
       "<table border=\"1\" class=\"dataframe\">\n",
       "  <thead>\n",
       "    <tr style=\"text-align: right;\">\n",
       "      <th></th>\n",
       "      <th>VIF</th>\n",
       "    </tr>\n",
       "  </thead>\n",
       "  <tbody>\n",
       "    <tr>\n",
       "      <th>const</th>\n",
       "      <td>34.139954</td>\n",
       "    </tr>\n",
       "    <tr>\n",
       "      <th>highwaympg</th>\n",
       "      <td>21.278328</td>\n",
       "    </tr>\n",
       "    <tr>\n",
       "      <th>fueleconomy</th>\n",
       "      <td>44.390570</td>\n",
       "    </tr>\n",
       "    <tr>\n",
       "      <th>car_price_range</th>\n",
       "      <td>1.160211</td>\n",
       "    </tr>\n",
       "    <tr>\n",
       "      <th>enginelocation_rear</th>\n",
       "      <td>1.192455</td>\n",
       "    </tr>\n",
       "    <tr>\n",
       "      <th>fuelsystem_4bbl</th>\n",
       "      <td>1.078471</td>\n",
       "    </tr>\n",
       "    <tr>\n",
       "      <th>fuelsystem_idi</th>\n",
       "      <td>1.197786</td>\n",
       "    </tr>\n",
       "  </tbody>\n",
       "</table>\n",
       "</div>"
      ],
      "text/plain": [
       "                           VIF\n",
       "const                34.139954\n",
       "highwaympg           21.278328\n",
       "fueleconomy          44.390570\n",
       "car_price_range       1.160211\n",
       "enginelocation_rear   1.192455\n",
       "fuelsystem_4bbl       1.078471\n",
       "fuelsystem_idi        1.197786"
      ]
     },
     "execution_count": 110,
     "metadata": {},
     "output_type": "execute_result"
    }
   ],
   "source": [
    "vif=[VIF(xtrain_new.values,i) for i in range(xtrain_new.shape[1])]\n",
    "vif_df=pd.DataFrame(vif,index=ccc,columns=['VIF'])\n",
    "vif_df"
   ]
  },
  {
   "cell_type": "code",
   "execution_count": 111,
   "id": "d10288d0",
   "metadata": {},
   "outputs": [],
   "source": [
    "xtrain_final=xtrain_final.drop('fueleconomy',axis=1)\n",
    "xtest_final=xtest_final.drop('fueleconomy',axis=1)"
   ]
  },
  {
   "cell_type": "code",
   "execution_count": 113,
   "id": "ee99d78d",
   "metadata": {},
   "outputs": [
    {
     "data": {
      "text/html": [
       "<style>#sk-container-id-2 {color: black;background-color: white;}#sk-container-id-2 pre{padding: 0;}#sk-container-id-2 div.sk-toggleable {background-color: white;}#sk-container-id-2 label.sk-toggleable__label {cursor: pointer;display: block;width: 100%;margin-bottom: 0;padding: 0.3em;box-sizing: border-box;text-align: center;}#sk-container-id-2 label.sk-toggleable__label-arrow:before {content: \"▸\";float: left;margin-right: 0.25em;color: #696969;}#sk-container-id-2 label.sk-toggleable__label-arrow:hover:before {color: black;}#sk-container-id-2 div.sk-estimator:hover label.sk-toggleable__label-arrow:before {color: black;}#sk-container-id-2 div.sk-toggleable__content {max-height: 0;max-width: 0;overflow: hidden;text-align: left;background-color: #f0f8ff;}#sk-container-id-2 div.sk-toggleable__content pre {margin: 0.2em;color: black;border-radius: 0.25em;background-color: #f0f8ff;}#sk-container-id-2 input.sk-toggleable__control:checked~div.sk-toggleable__content {max-height: 200px;max-width: 100%;overflow: auto;}#sk-container-id-2 input.sk-toggleable__control:checked~label.sk-toggleable__label-arrow:before {content: \"▾\";}#sk-container-id-2 div.sk-estimator input.sk-toggleable__control:checked~label.sk-toggleable__label {background-color: #d4ebff;}#sk-container-id-2 div.sk-label input.sk-toggleable__control:checked~label.sk-toggleable__label {background-color: #d4ebff;}#sk-container-id-2 input.sk-hidden--visually {border: 0;clip: rect(1px 1px 1px 1px);clip: rect(1px, 1px, 1px, 1px);height: 1px;margin: -1px;overflow: hidden;padding: 0;position: absolute;width: 1px;}#sk-container-id-2 div.sk-estimator {font-family: monospace;background-color: #f0f8ff;border: 1px dotted black;border-radius: 0.25em;box-sizing: border-box;margin-bottom: 0.5em;}#sk-container-id-2 div.sk-estimator:hover {background-color: #d4ebff;}#sk-container-id-2 div.sk-parallel-item::after {content: \"\";width: 100%;border-bottom: 1px solid gray;flex-grow: 1;}#sk-container-id-2 div.sk-label:hover label.sk-toggleable__label {background-color: #d4ebff;}#sk-container-id-2 div.sk-serial::before {content: \"\";position: absolute;border-left: 1px solid gray;box-sizing: border-box;top: 0;bottom: 0;left: 50%;z-index: 0;}#sk-container-id-2 div.sk-serial {display: flex;flex-direction: column;align-items: center;background-color: white;padding-right: 0.2em;padding-left: 0.2em;position: relative;}#sk-container-id-2 div.sk-item {position: relative;z-index: 1;}#sk-container-id-2 div.sk-parallel {display: flex;align-items: stretch;justify-content: center;background-color: white;position: relative;}#sk-container-id-2 div.sk-item::before, #sk-container-id-2 div.sk-parallel-item::before {content: \"\";position: absolute;border-left: 1px solid gray;box-sizing: border-box;top: 0;bottom: 0;left: 50%;z-index: -1;}#sk-container-id-2 div.sk-parallel-item {display: flex;flex-direction: column;z-index: 1;position: relative;background-color: white;}#sk-container-id-2 div.sk-parallel-item:first-child::after {align-self: flex-end;width: 50%;}#sk-container-id-2 div.sk-parallel-item:last-child::after {align-self: flex-start;width: 50%;}#sk-container-id-2 div.sk-parallel-item:only-child::after {width: 0;}#sk-container-id-2 div.sk-dashed-wrapped {border: 1px dashed gray;margin: 0 0.4em 0.5em 0.4em;box-sizing: border-box;padding-bottom: 0.4em;background-color: white;}#sk-container-id-2 div.sk-label label {font-family: monospace;font-weight: bold;display: inline-block;line-height: 1.2em;}#sk-container-id-2 div.sk-label-container {text-align: center;}#sk-container-id-2 div.sk-container {/* jupyter's `normalize.less` sets `[hidden] { display: none; }` but bootstrap.min.css set `[hidden] { display: none !important; }` so we also need the `!important` here to be able to override the default hidden behavior on the sphinx rendered scikit-learn.org. See: https://github.com/scikit-learn/scikit-learn/issues/21755 */display: inline-block !important;position: relative;}#sk-container-id-2 div.sk-text-repr-fallback {display: none;}</style><div id=\"sk-container-id-2\" class=\"sk-top-container\"><div class=\"sk-text-repr-fallback\"><pre>Ridge()</pre><b>In a Jupyter environment, please rerun this cell to show the HTML representation or trust the notebook. <br />On GitHub, the HTML representation is unable to render, please try loading this page with nbviewer.org.</b></div><div class=\"sk-container\" hidden><div class=\"sk-item\"><div class=\"sk-estimator sk-toggleable\"><input class=\"sk-toggleable__control sk-hidden--visually\" id=\"sk-estimator-id-4\" type=\"checkbox\" checked><label for=\"sk-estimator-id-4\" class=\"sk-toggleable__label sk-toggleable__label-arrow\">Ridge</label><div class=\"sk-toggleable__content\"><pre>Ridge()</pre></div></div></div></div></div>"
      ],
      "text/plain": [
       "Ridge()"
      ]
     },
     "execution_count": 113,
     "metadata": {},
     "output_type": "execute_result"
    }
   ],
   "source": [
    "# Ridge\n",
    "\n",
    "model3=Ridge()\n",
    "model3.fit(xtrain_final,ytrain)"
   ]
  },
  {
   "cell_type": "code",
   "execution_count": 114,
   "id": "2f88005b",
   "metadata": {},
   "outputs": [
    {
     "data": {
      "text/plain": [
       "0.8723748231413734"
      ]
     },
     "execution_count": 114,
     "metadata": {},
     "output_type": "execute_result"
    }
   ],
   "source": [
    "ypred=model3.predict(xtest_final)\n",
    "\n",
    "r2_score(ypred,ytest)"
   ]
  },
  {
   "cell_type": "code",
   "execution_count": 115,
   "id": "d69f20c2",
   "metadata": {},
   "outputs": [
    {
     "data": {
      "text/plain": [
       "1808.7393595361882"
      ]
     },
     "execution_count": 115,
     "metadata": {},
     "output_type": "execute_result"
    }
   ],
   "source": [
    "mean_absolute_error(ypred,ytest)"
   ]
  },
  {
   "cell_type": "code",
   "execution_count": 116,
   "id": "34af9c2d",
   "metadata": {},
   "outputs": [
    {
     "data": {
      "text/plain": [
       "6206031.3209302025"
      ]
     },
     "execution_count": 116,
     "metadata": {},
     "output_type": "execute_result"
    }
   ],
   "source": [
    "mean_squared_error(ypred,ytest)"
   ]
  },
  {
   "cell_type": "code",
   "execution_count": 117,
   "id": "9d490204",
   "metadata": {},
   "outputs": [
    {
     "data": {
      "text/plain": [
       "0.20828151290264696"
      ]
     },
     "execution_count": 117,
     "metadata": {},
     "output_type": "execute_result"
    }
   ],
   "source": [
    "mean_absolute_percentage_error(ypred,ytest)"
   ]
  },
  {
   "cell_type": "code",
   "execution_count": 118,
   "id": "62f1d477",
   "metadata": {},
   "outputs": [
    {
     "data": {
      "text/html": [
       "<style>#sk-container-id-3 {color: black;background-color: white;}#sk-container-id-3 pre{padding: 0;}#sk-container-id-3 div.sk-toggleable {background-color: white;}#sk-container-id-3 label.sk-toggleable__label {cursor: pointer;display: block;width: 100%;margin-bottom: 0;padding: 0.3em;box-sizing: border-box;text-align: center;}#sk-container-id-3 label.sk-toggleable__label-arrow:before {content: \"▸\";float: left;margin-right: 0.25em;color: #696969;}#sk-container-id-3 label.sk-toggleable__label-arrow:hover:before {color: black;}#sk-container-id-3 div.sk-estimator:hover label.sk-toggleable__label-arrow:before {color: black;}#sk-container-id-3 div.sk-toggleable__content {max-height: 0;max-width: 0;overflow: hidden;text-align: left;background-color: #f0f8ff;}#sk-container-id-3 div.sk-toggleable__content pre {margin: 0.2em;color: black;border-radius: 0.25em;background-color: #f0f8ff;}#sk-container-id-3 input.sk-toggleable__control:checked~div.sk-toggleable__content {max-height: 200px;max-width: 100%;overflow: auto;}#sk-container-id-3 input.sk-toggleable__control:checked~label.sk-toggleable__label-arrow:before {content: \"▾\";}#sk-container-id-3 div.sk-estimator input.sk-toggleable__control:checked~label.sk-toggleable__label {background-color: #d4ebff;}#sk-container-id-3 div.sk-label input.sk-toggleable__control:checked~label.sk-toggleable__label {background-color: #d4ebff;}#sk-container-id-3 input.sk-hidden--visually {border: 0;clip: rect(1px 1px 1px 1px);clip: rect(1px, 1px, 1px, 1px);height: 1px;margin: -1px;overflow: hidden;padding: 0;position: absolute;width: 1px;}#sk-container-id-3 div.sk-estimator {font-family: monospace;background-color: #f0f8ff;border: 1px dotted black;border-radius: 0.25em;box-sizing: border-box;margin-bottom: 0.5em;}#sk-container-id-3 div.sk-estimator:hover {background-color: #d4ebff;}#sk-container-id-3 div.sk-parallel-item::after {content: \"\";width: 100%;border-bottom: 1px solid gray;flex-grow: 1;}#sk-container-id-3 div.sk-label:hover label.sk-toggleable__label {background-color: #d4ebff;}#sk-container-id-3 div.sk-serial::before {content: \"\";position: absolute;border-left: 1px solid gray;box-sizing: border-box;top: 0;bottom: 0;left: 50%;z-index: 0;}#sk-container-id-3 div.sk-serial {display: flex;flex-direction: column;align-items: center;background-color: white;padding-right: 0.2em;padding-left: 0.2em;position: relative;}#sk-container-id-3 div.sk-item {position: relative;z-index: 1;}#sk-container-id-3 div.sk-parallel {display: flex;align-items: stretch;justify-content: center;background-color: white;position: relative;}#sk-container-id-3 div.sk-item::before, #sk-container-id-3 div.sk-parallel-item::before {content: \"\";position: absolute;border-left: 1px solid gray;box-sizing: border-box;top: 0;bottom: 0;left: 50%;z-index: -1;}#sk-container-id-3 div.sk-parallel-item {display: flex;flex-direction: column;z-index: 1;position: relative;background-color: white;}#sk-container-id-3 div.sk-parallel-item:first-child::after {align-self: flex-end;width: 50%;}#sk-container-id-3 div.sk-parallel-item:last-child::after {align-self: flex-start;width: 50%;}#sk-container-id-3 div.sk-parallel-item:only-child::after {width: 0;}#sk-container-id-3 div.sk-dashed-wrapped {border: 1px dashed gray;margin: 0 0.4em 0.5em 0.4em;box-sizing: border-box;padding-bottom: 0.4em;background-color: white;}#sk-container-id-3 div.sk-label label {font-family: monospace;font-weight: bold;display: inline-block;line-height: 1.2em;}#sk-container-id-3 div.sk-label-container {text-align: center;}#sk-container-id-3 div.sk-container {/* jupyter's `normalize.less` sets `[hidden] { display: none; }` but bootstrap.min.css set `[hidden] { display: none !important; }` so we also need the `!important` here to be able to override the default hidden behavior on the sphinx rendered scikit-learn.org. See: https://github.com/scikit-learn/scikit-learn/issues/21755 */display: inline-block !important;position: relative;}#sk-container-id-3 div.sk-text-repr-fallback {display: none;}</style><div id=\"sk-container-id-3\" class=\"sk-top-container\"><div class=\"sk-text-repr-fallback\"><pre>Lasso()</pre><b>In a Jupyter environment, please rerun this cell to show the HTML representation or trust the notebook. <br />On GitHub, the HTML representation is unable to render, please try loading this page with nbviewer.org.</b></div><div class=\"sk-container\" hidden><div class=\"sk-item\"><div class=\"sk-estimator sk-toggleable\"><input class=\"sk-toggleable__control sk-hidden--visually\" id=\"sk-estimator-id-5\" type=\"checkbox\" checked><label for=\"sk-estimator-id-5\" class=\"sk-toggleable__label sk-toggleable__label-arrow\">Lasso</label><div class=\"sk-toggleable__content\"><pre>Lasso()</pre></div></div></div></div></div>"
      ],
      "text/plain": [
       "Lasso()"
      ]
     },
     "execution_count": 118,
     "metadata": {},
     "output_type": "execute_result"
    }
   ],
   "source": [
    "# Lasso\n",
    "\n",
    "model4=Lasso()\n",
    "\n",
    "model4.fit(xtrain_final,ytrain)"
   ]
  },
  {
   "cell_type": "code",
   "execution_count": 119,
   "id": "39824989",
   "metadata": {},
   "outputs": [
    {
     "data": {
      "text/plain": [
       "0.875591690471942"
      ]
     },
     "execution_count": 119,
     "metadata": {},
     "output_type": "execute_result"
    }
   ],
   "source": [
    "ypred=model4.predict(xtest_final)\n",
    "\n",
    "r2_score(ypred,ytest)"
   ]
  },
  {
   "cell_type": "code",
   "execution_count": 120,
   "id": "ac30b5e3",
   "metadata": {},
   "outputs": [
    {
     "data": {
      "text/plain": [
       "1772.7672246773066"
      ]
     },
     "execution_count": 120,
     "metadata": {},
     "output_type": "execute_result"
    }
   ],
   "source": [
    "mean_absolute_error(ypred,ytest)"
   ]
  },
  {
   "cell_type": "code",
   "execution_count": 121,
   "id": "57f6e718",
   "metadata": {},
   "outputs": [
    {
     "data": {
      "text/plain": [
       "6154472.535973173"
      ]
     },
     "execution_count": 121,
     "metadata": {},
     "output_type": "execute_result"
    }
   ],
   "source": [
    "mean_squared_error(ypred,ytest)"
   ]
  },
  {
   "cell_type": "code",
   "execution_count": 122,
   "id": "306f6b83",
   "metadata": {},
   "outputs": [
    {
     "data": {
      "text/plain": [
       "0.2173137363332844"
      ]
     },
     "execution_count": 122,
     "metadata": {},
     "output_type": "execute_result"
    }
   ],
   "source": [
    "mean_absolute_percentage_error(ypred,ytest)"
   ]
  },
  {
   "cell_type": "code",
   "execution_count": 123,
   "id": "a0404b9f",
   "metadata": {},
   "outputs": [
    {
     "data": {
      "text/html": [
       "<style>#sk-container-id-4 {color: black;background-color: white;}#sk-container-id-4 pre{padding: 0;}#sk-container-id-4 div.sk-toggleable {background-color: white;}#sk-container-id-4 label.sk-toggleable__label {cursor: pointer;display: block;width: 100%;margin-bottom: 0;padding: 0.3em;box-sizing: border-box;text-align: center;}#sk-container-id-4 label.sk-toggleable__label-arrow:before {content: \"▸\";float: left;margin-right: 0.25em;color: #696969;}#sk-container-id-4 label.sk-toggleable__label-arrow:hover:before {color: black;}#sk-container-id-4 div.sk-estimator:hover label.sk-toggleable__label-arrow:before {color: black;}#sk-container-id-4 div.sk-toggleable__content {max-height: 0;max-width: 0;overflow: hidden;text-align: left;background-color: #f0f8ff;}#sk-container-id-4 div.sk-toggleable__content pre {margin: 0.2em;color: black;border-radius: 0.25em;background-color: #f0f8ff;}#sk-container-id-4 input.sk-toggleable__control:checked~div.sk-toggleable__content {max-height: 200px;max-width: 100%;overflow: auto;}#sk-container-id-4 input.sk-toggleable__control:checked~label.sk-toggleable__label-arrow:before {content: \"▾\";}#sk-container-id-4 div.sk-estimator input.sk-toggleable__control:checked~label.sk-toggleable__label {background-color: #d4ebff;}#sk-container-id-4 div.sk-label input.sk-toggleable__control:checked~label.sk-toggleable__label {background-color: #d4ebff;}#sk-container-id-4 input.sk-hidden--visually {border: 0;clip: rect(1px 1px 1px 1px);clip: rect(1px, 1px, 1px, 1px);height: 1px;margin: -1px;overflow: hidden;padding: 0;position: absolute;width: 1px;}#sk-container-id-4 div.sk-estimator {font-family: monospace;background-color: #f0f8ff;border: 1px dotted black;border-radius: 0.25em;box-sizing: border-box;margin-bottom: 0.5em;}#sk-container-id-4 div.sk-estimator:hover {background-color: #d4ebff;}#sk-container-id-4 div.sk-parallel-item::after {content: \"\";width: 100%;border-bottom: 1px solid gray;flex-grow: 1;}#sk-container-id-4 div.sk-label:hover label.sk-toggleable__label {background-color: #d4ebff;}#sk-container-id-4 div.sk-serial::before {content: \"\";position: absolute;border-left: 1px solid gray;box-sizing: border-box;top: 0;bottom: 0;left: 50%;z-index: 0;}#sk-container-id-4 div.sk-serial {display: flex;flex-direction: column;align-items: center;background-color: white;padding-right: 0.2em;padding-left: 0.2em;position: relative;}#sk-container-id-4 div.sk-item {position: relative;z-index: 1;}#sk-container-id-4 div.sk-parallel {display: flex;align-items: stretch;justify-content: center;background-color: white;position: relative;}#sk-container-id-4 div.sk-item::before, #sk-container-id-4 div.sk-parallel-item::before {content: \"\";position: absolute;border-left: 1px solid gray;box-sizing: border-box;top: 0;bottom: 0;left: 50%;z-index: -1;}#sk-container-id-4 div.sk-parallel-item {display: flex;flex-direction: column;z-index: 1;position: relative;background-color: white;}#sk-container-id-4 div.sk-parallel-item:first-child::after {align-self: flex-end;width: 50%;}#sk-container-id-4 div.sk-parallel-item:last-child::after {align-self: flex-start;width: 50%;}#sk-container-id-4 div.sk-parallel-item:only-child::after {width: 0;}#sk-container-id-4 div.sk-dashed-wrapped {border: 1px dashed gray;margin: 0 0.4em 0.5em 0.4em;box-sizing: border-box;padding-bottom: 0.4em;background-color: white;}#sk-container-id-4 div.sk-label label {font-family: monospace;font-weight: bold;display: inline-block;line-height: 1.2em;}#sk-container-id-4 div.sk-label-container {text-align: center;}#sk-container-id-4 div.sk-container {/* jupyter's `normalize.less` sets `[hidden] { display: none; }` but bootstrap.min.css set `[hidden] { display: none !important; }` so we also need the `!important` here to be able to override the default hidden behavior on the sphinx rendered scikit-learn.org. See: https://github.com/scikit-learn/scikit-learn/issues/21755 */display: inline-block !important;position: relative;}#sk-container-id-4 div.sk-text-repr-fallback {display: none;}</style><div id=\"sk-container-id-4\" class=\"sk-top-container\"><div class=\"sk-text-repr-fallback\"><pre>RandomForestRegressor()</pre><b>In a Jupyter environment, please rerun this cell to show the HTML representation or trust the notebook. <br />On GitHub, the HTML representation is unable to render, please try loading this page with nbviewer.org.</b></div><div class=\"sk-container\" hidden><div class=\"sk-item\"><div class=\"sk-estimator sk-toggleable\"><input class=\"sk-toggleable__control sk-hidden--visually\" id=\"sk-estimator-id-6\" type=\"checkbox\" checked><label for=\"sk-estimator-id-6\" class=\"sk-toggleable__label sk-toggleable__label-arrow\">RandomForestRegressor</label><div class=\"sk-toggleable__content\"><pre>RandomForestRegressor()</pre></div></div></div></div></div>"
      ],
      "text/plain": [
       "RandomForestRegressor()"
      ]
     },
     "execution_count": 123,
     "metadata": {},
     "output_type": "execute_result"
    }
   ],
   "source": [
    "# Random Forest\n",
    "\n",
    "rf=RandomForestRegressor()\n",
    "rf.fit(xtrain_final,ytrain)"
   ]
  },
  {
   "cell_type": "code",
   "execution_count": 124,
   "id": "d12ed125",
   "metadata": {},
   "outputs": [
    {
     "data": {
      "text/plain": [
       "0.9005760582659555"
      ]
     },
     "execution_count": 124,
     "metadata": {},
     "output_type": "execute_result"
    }
   ],
   "source": [
    "ypred=rf.predict(xtest_final)\n",
    "r2_score(ypred,ytest)"
   ]
  },
  {
   "cell_type": "code",
   "execution_count": 125,
   "id": "285f9b72",
   "metadata": {},
   "outputs": [
    {
     "data": {
      "text/plain": [
       "1589.853957223882"
      ]
     },
     "execution_count": 125,
     "metadata": {},
     "output_type": "execute_result"
    }
   ],
   "source": [
    "mean_absolute_error(ypred,ytest)"
   ]
  },
  {
   "cell_type": "code",
   "execution_count": 126,
   "id": "b12f1097",
   "metadata": {},
   "outputs": [
    {
     "data": {
      "text/plain": [
       "5273392.426330409"
      ]
     },
     "execution_count": 126,
     "metadata": {},
     "output_type": "execute_result"
    }
   ],
   "source": [
    "mean_squared_error(ypred,ytest)"
   ]
  },
  {
   "cell_type": "code",
   "execution_count": 127,
   "id": "b22bbf76",
   "metadata": {},
   "outputs": [
    {
     "data": {
      "text/plain": [
       "0.1400810177916918"
      ]
     },
     "execution_count": 127,
     "metadata": {},
     "output_type": "execute_result"
    }
   ],
   "source": [
    "mean_absolute_percentage_error(ypred,ytest)"
   ]
  },
  {
   "cell_type": "code",
   "execution_count": 128,
   "id": "748b443b",
   "metadata": {},
   "outputs": [
    {
     "data": {
      "text/html": [
       "<style>#sk-container-id-5 {color: black;background-color: white;}#sk-container-id-5 pre{padding: 0;}#sk-container-id-5 div.sk-toggleable {background-color: white;}#sk-container-id-5 label.sk-toggleable__label {cursor: pointer;display: block;width: 100%;margin-bottom: 0;padding: 0.3em;box-sizing: border-box;text-align: center;}#sk-container-id-5 label.sk-toggleable__label-arrow:before {content: \"▸\";float: left;margin-right: 0.25em;color: #696969;}#sk-container-id-5 label.sk-toggleable__label-arrow:hover:before {color: black;}#sk-container-id-5 div.sk-estimator:hover label.sk-toggleable__label-arrow:before {color: black;}#sk-container-id-5 div.sk-toggleable__content {max-height: 0;max-width: 0;overflow: hidden;text-align: left;background-color: #f0f8ff;}#sk-container-id-5 div.sk-toggleable__content pre {margin: 0.2em;color: black;border-radius: 0.25em;background-color: #f0f8ff;}#sk-container-id-5 input.sk-toggleable__control:checked~div.sk-toggleable__content {max-height: 200px;max-width: 100%;overflow: auto;}#sk-container-id-5 input.sk-toggleable__control:checked~label.sk-toggleable__label-arrow:before {content: \"▾\";}#sk-container-id-5 div.sk-estimator input.sk-toggleable__control:checked~label.sk-toggleable__label {background-color: #d4ebff;}#sk-container-id-5 div.sk-label input.sk-toggleable__control:checked~label.sk-toggleable__label {background-color: #d4ebff;}#sk-container-id-5 input.sk-hidden--visually {border: 0;clip: rect(1px 1px 1px 1px);clip: rect(1px, 1px, 1px, 1px);height: 1px;margin: -1px;overflow: hidden;padding: 0;position: absolute;width: 1px;}#sk-container-id-5 div.sk-estimator {font-family: monospace;background-color: #f0f8ff;border: 1px dotted black;border-radius: 0.25em;box-sizing: border-box;margin-bottom: 0.5em;}#sk-container-id-5 div.sk-estimator:hover {background-color: #d4ebff;}#sk-container-id-5 div.sk-parallel-item::after {content: \"\";width: 100%;border-bottom: 1px solid gray;flex-grow: 1;}#sk-container-id-5 div.sk-label:hover label.sk-toggleable__label {background-color: #d4ebff;}#sk-container-id-5 div.sk-serial::before {content: \"\";position: absolute;border-left: 1px solid gray;box-sizing: border-box;top: 0;bottom: 0;left: 50%;z-index: 0;}#sk-container-id-5 div.sk-serial {display: flex;flex-direction: column;align-items: center;background-color: white;padding-right: 0.2em;padding-left: 0.2em;position: relative;}#sk-container-id-5 div.sk-item {position: relative;z-index: 1;}#sk-container-id-5 div.sk-parallel {display: flex;align-items: stretch;justify-content: center;background-color: white;position: relative;}#sk-container-id-5 div.sk-item::before, #sk-container-id-5 div.sk-parallel-item::before {content: \"\";position: absolute;border-left: 1px solid gray;box-sizing: border-box;top: 0;bottom: 0;left: 50%;z-index: -1;}#sk-container-id-5 div.sk-parallel-item {display: flex;flex-direction: column;z-index: 1;position: relative;background-color: white;}#sk-container-id-5 div.sk-parallel-item:first-child::after {align-self: flex-end;width: 50%;}#sk-container-id-5 div.sk-parallel-item:last-child::after {align-self: flex-start;width: 50%;}#sk-container-id-5 div.sk-parallel-item:only-child::after {width: 0;}#sk-container-id-5 div.sk-dashed-wrapped {border: 1px dashed gray;margin: 0 0.4em 0.5em 0.4em;box-sizing: border-box;padding-bottom: 0.4em;background-color: white;}#sk-container-id-5 div.sk-label label {font-family: monospace;font-weight: bold;display: inline-block;line-height: 1.2em;}#sk-container-id-5 div.sk-label-container {text-align: center;}#sk-container-id-5 div.sk-container {/* jupyter's `normalize.less` sets `[hidden] { display: none; }` but bootstrap.min.css set `[hidden] { display: none !important; }` so we also need the `!important` here to be able to override the default hidden behavior on the sphinx rendered scikit-learn.org. See: https://github.com/scikit-learn/scikit-learn/issues/21755 */display: inline-block !important;position: relative;}#sk-container-id-5 div.sk-text-repr-fallback {display: none;}</style><div id=\"sk-container-id-5\" class=\"sk-top-container\"><div class=\"sk-text-repr-fallback\"><pre>GradientBoostingRegressor()</pre><b>In a Jupyter environment, please rerun this cell to show the HTML representation or trust the notebook. <br />On GitHub, the HTML representation is unable to render, please try loading this page with nbviewer.org.</b></div><div class=\"sk-container\" hidden><div class=\"sk-item\"><div class=\"sk-estimator sk-toggleable\"><input class=\"sk-toggleable__control sk-hidden--visually\" id=\"sk-estimator-id-7\" type=\"checkbox\" checked><label for=\"sk-estimator-id-7\" class=\"sk-toggleable__label sk-toggleable__label-arrow\">GradientBoostingRegressor</label><div class=\"sk-toggleable__content\"><pre>GradientBoostingRegressor()</pre></div></div></div></div></div>"
      ],
      "text/plain": [
       "GradientBoostingRegressor()"
      ]
     },
     "execution_count": 128,
     "metadata": {},
     "output_type": "execute_result"
    }
   ],
   "source": [
    "# Boosting\n",
    "\n",
    "gra=GradientBoostingRegressor()\n",
    "gra.fit(xtrain_final,ytrain)"
   ]
  },
  {
   "cell_type": "code",
   "execution_count": 130,
   "id": "ae06d045",
   "metadata": {},
   "outputs": [
    {
     "data": {
      "text/plain": [
       "0.900289150611414"
      ]
     },
     "execution_count": 130,
     "metadata": {},
     "output_type": "execute_result"
    }
   ],
   "source": [
    "ypred=gra.predict(xtest_final)\n",
    "r2_score(ypred,ytest)"
   ]
  },
  {
   "cell_type": "code",
   "execution_count": 131,
   "id": "865956ba",
   "metadata": {},
   "outputs": [
    {
     "data": {
      "text/plain": [
       "1580.6032868079837"
      ]
     },
     "execution_count": 131,
     "metadata": {},
     "output_type": "execute_result"
    }
   ],
   "source": [
    "mean_absolute_error(ypred,ytest)"
   ]
  },
  {
   "cell_type": "code",
   "execution_count": 132,
   "id": "31213602",
   "metadata": {},
   "outputs": [
    {
     "data": {
      "text/plain": [
       "5701607.846609639"
      ]
     },
     "execution_count": 132,
     "metadata": {},
     "output_type": "execute_result"
    }
   ],
   "source": [
    "mean_squared_error(ypred,ytest)"
   ]
  },
  {
   "cell_type": "code",
   "execution_count": 133,
   "id": "42538304",
   "metadata": {},
   "outputs": [
    {
     "data": {
      "text/plain": [
       "0.13255315928598113"
      ]
     },
     "execution_count": 133,
     "metadata": {},
     "output_type": "execute_result"
    }
   ],
   "source": [
    "mean_absolute_percentage_error(ypred,ytest)"
   ]
  },
  {
   "cell_type": "code",
   "execution_count": 135,
   "id": "c0e4a44f",
   "metadata": {},
   "outputs": [
    {
     "data": {
      "text/html": [
       "<style>#sk-container-id-6 {color: black;background-color: white;}#sk-container-id-6 pre{padding: 0;}#sk-container-id-6 div.sk-toggleable {background-color: white;}#sk-container-id-6 label.sk-toggleable__label {cursor: pointer;display: block;width: 100%;margin-bottom: 0;padding: 0.3em;box-sizing: border-box;text-align: center;}#sk-container-id-6 label.sk-toggleable__label-arrow:before {content: \"▸\";float: left;margin-right: 0.25em;color: #696969;}#sk-container-id-6 label.sk-toggleable__label-arrow:hover:before {color: black;}#sk-container-id-6 div.sk-estimator:hover label.sk-toggleable__label-arrow:before {color: black;}#sk-container-id-6 div.sk-toggleable__content {max-height: 0;max-width: 0;overflow: hidden;text-align: left;background-color: #f0f8ff;}#sk-container-id-6 div.sk-toggleable__content pre {margin: 0.2em;color: black;border-radius: 0.25em;background-color: #f0f8ff;}#sk-container-id-6 input.sk-toggleable__control:checked~div.sk-toggleable__content {max-height: 200px;max-width: 100%;overflow: auto;}#sk-container-id-6 input.sk-toggleable__control:checked~label.sk-toggleable__label-arrow:before {content: \"▾\";}#sk-container-id-6 div.sk-estimator input.sk-toggleable__control:checked~label.sk-toggleable__label {background-color: #d4ebff;}#sk-container-id-6 div.sk-label input.sk-toggleable__control:checked~label.sk-toggleable__label {background-color: #d4ebff;}#sk-container-id-6 input.sk-hidden--visually {border: 0;clip: rect(1px 1px 1px 1px);clip: rect(1px, 1px, 1px, 1px);height: 1px;margin: -1px;overflow: hidden;padding: 0;position: absolute;width: 1px;}#sk-container-id-6 div.sk-estimator {font-family: monospace;background-color: #f0f8ff;border: 1px dotted black;border-radius: 0.25em;box-sizing: border-box;margin-bottom: 0.5em;}#sk-container-id-6 div.sk-estimator:hover {background-color: #d4ebff;}#sk-container-id-6 div.sk-parallel-item::after {content: \"\";width: 100%;border-bottom: 1px solid gray;flex-grow: 1;}#sk-container-id-6 div.sk-label:hover label.sk-toggleable__label {background-color: #d4ebff;}#sk-container-id-6 div.sk-serial::before {content: \"\";position: absolute;border-left: 1px solid gray;box-sizing: border-box;top: 0;bottom: 0;left: 50%;z-index: 0;}#sk-container-id-6 div.sk-serial {display: flex;flex-direction: column;align-items: center;background-color: white;padding-right: 0.2em;padding-left: 0.2em;position: relative;}#sk-container-id-6 div.sk-item {position: relative;z-index: 1;}#sk-container-id-6 div.sk-parallel {display: flex;align-items: stretch;justify-content: center;background-color: white;position: relative;}#sk-container-id-6 div.sk-item::before, #sk-container-id-6 div.sk-parallel-item::before {content: \"\";position: absolute;border-left: 1px solid gray;box-sizing: border-box;top: 0;bottom: 0;left: 50%;z-index: -1;}#sk-container-id-6 div.sk-parallel-item {display: flex;flex-direction: column;z-index: 1;position: relative;background-color: white;}#sk-container-id-6 div.sk-parallel-item:first-child::after {align-self: flex-end;width: 50%;}#sk-container-id-6 div.sk-parallel-item:last-child::after {align-self: flex-start;width: 50%;}#sk-container-id-6 div.sk-parallel-item:only-child::after {width: 0;}#sk-container-id-6 div.sk-dashed-wrapped {border: 1px dashed gray;margin: 0 0.4em 0.5em 0.4em;box-sizing: border-box;padding-bottom: 0.4em;background-color: white;}#sk-container-id-6 div.sk-label label {font-family: monospace;font-weight: bold;display: inline-block;line-height: 1.2em;}#sk-container-id-6 div.sk-label-container {text-align: center;}#sk-container-id-6 div.sk-container {/* jupyter's `normalize.less` sets `[hidden] { display: none; }` but bootstrap.min.css set `[hidden] { display: none !important; }` so we also need the `!important` here to be able to override the default hidden behavior on the sphinx rendered scikit-learn.org. See: https://github.com/scikit-learn/scikit-learn/issues/21755 */display: inline-block !important;position: relative;}#sk-container-id-6 div.sk-text-repr-fallback {display: none;}</style><div id=\"sk-container-id-6\" class=\"sk-top-container\"><div class=\"sk-text-repr-fallback\"><pre>AdaBoostRegressor()</pre><b>In a Jupyter environment, please rerun this cell to show the HTML representation or trust the notebook. <br />On GitHub, the HTML representation is unable to render, please try loading this page with nbviewer.org.</b></div><div class=\"sk-container\" hidden><div class=\"sk-item\"><div class=\"sk-estimator sk-toggleable\"><input class=\"sk-toggleable__control sk-hidden--visually\" id=\"sk-estimator-id-8\" type=\"checkbox\" checked><label for=\"sk-estimator-id-8\" class=\"sk-toggleable__label sk-toggleable__label-arrow\">AdaBoostRegressor</label><div class=\"sk-toggleable__content\"><pre>AdaBoostRegressor()</pre></div></div></div></div></div>"
      ],
      "text/plain": [
       "AdaBoostRegressor()"
      ]
     },
     "execution_count": 135,
     "metadata": {},
     "output_type": "execute_result"
    }
   ],
   "source": [
    "# AdaBoost\n",
    "\n",
    "ada=AdaBoostRegressor()\n",
    "ada.fit(xtrain_final,ytrain)"
   ]
  },
  {
   "cell_type": "code",
   "execution_count": 137,
   "id": "2ae3c9b5",
   "metadata": {},
   "outputs": [
    {
     "data": {
      "text/plain": [
       "0.8528638634603956"
      ]
     },
     "execution_count": 137,
     "metadata": {},
     "output_type": "execute_result"
    }
   ],
   "source": [
    "ypred=ada.predict(xtest_final)\n",
    "\n",
    "r2_score(ypred,ytest)"
   ]
  },
  {
   "cell_type": "code",
   "execution_count": 138,
   "id": "21e14cf6",
   "metadata": {},
   "outputs": [
    {
     "data": {
      "text/plain": [
       "2101.480787140616"
      ]
     },
     "execution_count": 138,
     "metadata": {},
     "output_type": "execute_result"
    }
   ],
   "source": [
    "mean_absolute_error(ypred,ytest)"
   ]
  },
  {
   "cell_type": "code",
   "execution_count": 139,
   "id": "4a16de0f",
   "metadata": {},
   "outputs": [
    {
     "data": {
      "text/plain": [
       "7984821.883014011"
      ]
     },
     "execution_count": 139,
     "metadata": {},
     "output_type": "execute_result"
    }
   ],
   "source": [
    "mean_squared_error(ypred,ytest)"
   ]
  },
  {
   "cell_type": "code",
   "execution_count": 140,
   "id": "2e897249",
   "metadata": {},
   "outputs": [
    {
     "data": {
      "text/plain": [
       "0.18897092550423467"
      ]
     },
     "execution_count": 140,
     "metadata": {},
     "output_type": "execute_result"
    }
   ],
   "source": [
    "mean_absolute_percentage_error(ypred,ytest)"
   ]
  }
 ],
 "metadata": {
  "kernelspec": {
   "display_name": "Python 3 (ipykernel)",
   "language": "python",
   "name": "python3"
  },
  "language_info": {
   "codemirror_mode": {
    "name": "ipython",
    "version": 3
   },
   "file_extension": ".py",
   "mimetype": "text/x-python",
   "name": "python",
   "nbconvert_exporter": "python",
   "pygments_lexer": "ipython3",
   "version": "3.11.5"
  }
 },
 "nbformat": 4,
 "nbformat_minor": 5
}
